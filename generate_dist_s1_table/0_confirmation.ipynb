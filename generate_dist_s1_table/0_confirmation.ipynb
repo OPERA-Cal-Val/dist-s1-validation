{
 "cells": [
  {
   "cell_type": "markdown",
   "id": "tx31qxkohm",
   "metadata": {},
   "source": [
    "# Product Confirmation Workflow\n",
    "\n",
    "This notebook downloads DIST-ALERT products from S3, unzips them, and runs the confirmation workflow."
   ]
  },
  {
   "cell_type": "code",
   "execution_count": 4,
   "id": "aee5bbb2",
   "metadata": {},
   "outputs": [
    {
     "name": "stderr",
     "output_type": "stream",
     "text": [
      "/Users/cmarshak/miniforge3/envs/dist-s1-val/lib/python3.13/site-packages/tqdm/auto.py:21: TqdmWarning: IProgress not found. Please update jupyter and ipywidgets. See https://ipywidgets.readthedocs.io/en/stable/user_install.html\n",
      "  from .autonotebook import tqdm as notebook_tqdm\n"
     ]
    }
   ],
   "source": [
    "import pandas as pd\n",
    "import shutil\n",
    "import zipfile\n",
    "import requests\n",
    "from pathlib import Path\n",
    "from tqdm.auto import tqdm\n",
    "from concurrent.futures import ThreadPoolExecutor\n",
    "from dist_s1 import run_sequential_confirmation_of_dist_products_workflow"
   ]
  },
  {
   "cell_type": "code",
   "execution_count": 5,
   "id": "6f345904",
   "metadata": {},
   "outputs": [],
   "source": [
    "tmp_dir =  Path('tmp')\n",
    "unconfirmed_products_dir =  Path('unconfirmed_products')\n",
    "confirmed_products_dir =  Path('confirmed_products')\n",
    "\n",
    "tmp_dir.mkdir(exist_ok=True)\n",
    "unconfirmed_products_dir.mkdir(exist_ok=True)\n",
    "confirmed_products_dir.mkdir(exist_ok=True)"
   ]
  },
  {
   "cell_type": "code",
   "execution_count": 6,
   "id": "60e3e1b4",
   "metadata": {},
   "outputs": [
    {
     "data": {
      "text/html": [
       "<div>\n",
       "<style scoped>\n",
       "    .dataframe tbody tr th:only-of-type {\n",
       "        vertical-align: middle;\n",
       "    }\n",
       "\n",
       "    .dataframe tbody tr th {\n",
       "        vertical-align: top;\n",
       "    }\n",
       "\n",
       "    .dataframe thead th {\n",
       "        text-align: right;\n",
       "    }\n",
       "</style>\n",
       "<table border=\"1\" class=\"dataframe\">\n",
       "  <thead>\n",
       "    <tr style=\"text-align: right;\">\n",
       "      <th></th>\n",
       "      <th>zip_url</th>\n",
       "      <th>browse_url</th>\n",
       "      <th>product_request_time</th>\n",
       "      <th>processing_duration</th>\n",
       "      <th>high_confidence_alert_threshold</th>\n",
       "      <th>mgrs_tile_id</th>\n",
       "      <th>post_date_buffer_days</th>\n",
       "      <th>stride_for_norm_param_estimation</th>\n",
       "      <th>n_workers_for_norm_param_estimation</th>\n",
       "      <th>delta_lookback_days_mw</th>\n",
       "      <th>...</th>\n",
       "      <th>model_source</th>\n",
       "      <th>memory_strategy</th>\n",
       "      <th>batch_size_for_norm_param_estimation</th>\n",
       "      <th>post_date</th>\n",
       "      <th>track_number</th>\n",
       "      <th>low_confidence_alert_threshold</th>\n",
       "      <th>n_workers_for_despeckling</th>\n",
       "      <th>device</th>\n",
       "      <th>max_pre_imgs_per_burst_mw</th>\n",
       "      <th>model_compilation</th>\n",
       "    </tr>\n",
       "  </thead>\n",
       "  <tbody>\n",
       "    <tr>\n",
       "      <th>0</th>\n",
       "      <td>https://hyp3-tibet-jpl-test-contentbucket-hrat...</td>\n",
       "      <td>https://hyp3-tibet-jpl-test-contentbucket-hrat...</td>\n",
       "      <td>2025-09-10T16:33:35+00:00</td>\n",
       "      <td>1025.949</td>\n",
       "      <td>4.5</td>\n",
       "      <td>50NPL</td>\n",
       "      <td>1</td>\n",
       "      <td>7</td>\n",
       "      <td>4</td>\n",
       "      <td>none</td>\n",
       "      <td>...</td>\n",
       "      <td>transformer_optimized</td>\n",
       "      <td>high</td>\n",
       "      <td>32</td>\n",
       "      <td>2024-08-15</td>\n",
       "      <td>32</td>\n",
       "      <td>2.5</td>\n",
       "      <td>4</td>\n",
       "      <td>best</td>\n",
       "      <td>none</td>\n",
       "      <td>False</td>\n",
       "    </tr>\n",
       "    <tr>\n",
       "      <th>1</th>\n",
       "      <td>https://hyp3-tibet-jpl-test-contentbucket-hrat...</td>\n",
       "      <td>https://hyp3-tibet-jpl-test-contentbucket-hrat...</td>\n",
       "      <td>2025-09-10T16:33:35+00:00</td>\n",
       "      <td>1125.674</td>\n",
       "      <td>4.5</td>\n",
       "      <td>50NPL</td>\n",
       "      <td>1</td>\n",
       "      <td>7</td>\n",
       "      <td>4</td>\n",
       "      <td>none</td>\n",
       "      <td>...</td>\n",
       "      <td>transformer_optimized</td>\n",
       "      <td>high</td>\n",
       "      <td>32</td>\n",
       "      <td>2024-10-02</td>\n",
       "      <td>32</td>\n",
       "      <td>2.5</td>\n",
       "      <td>4</td>\n",
       "      <td>best</td>\n",
       "      <td>none</td>\n",
       "      <td>False</td>\n",
       "    </tr>\n",
       "    <tr>\n",
       "      <th>2</th>\n",
       "      <td>https://hyp3-tibet-jpl-test-contentbucket-hrat...</td>\n",
       "      <td>https://hyp3-tibet-jpl-test-contentbucket-hrat...</td>\n",
       "      <td>2025-09-10T16:33:35+00:00</td>\n",
       "      <td>809.899</td>\n",
       "      <td>4.5</td>\n",
       "      <td>50NPL</td>\n",
       "      <td>1</td>\n",
       "      <td>7</td>\n",
       "      <td>4</td>\n",
       "      <td>none</td>\n",
       "      <td>...</td>\n",
       "      <td>transformer_optimized</td>\n",
       "      <td>high</td>\n",
       "      <td>32</td>\n",
       "      <td>2024-05-28</td>\n",
       "      <td>105</td>\n",
       "      <td>2.5</td>\n",
       "      <td>4</td>\n",
       "      <td>best</td>\n",
       "      <td>none</td>\n",
       "      <td>False</td>\n",
       "    </tr>\n",
       "    <tr>\n",
       "      <th>3</th>\n",
       "      <td>https://hyp3-tibet-jpl-test-contentbucket-hrat...</td>\n",
       "      <td>https://hyp3-tibet-jpl-test-contentbucket-hrat...</td>\n",
       "      <td>2025-09-10T16:33:35+00:00</td>\n",
       "      <td>627.532</td>\n",
       "      <td>4.5</td>\n",
       "      <td>50NPL</td>\n",
       "      <td>1</td>\n",
       "      <td>7</td>\n",
       "      <td>4</td>\n",
       "      <td>none</td>\n",
       "      <td>...</td>\n",
       "      <td>transformer_optimized</td>\n",
       "      <td>high</td>\n",
       "      <td>32</td>\n",
       "      <td>2024-10-07</td>\n",
       "      <td>105</td>\n",
       "      <td>2.5</td>\n",
       "      <td>4</td>\n",
       "      <td>best</td>\n",
       "      <td>none</td>\n",
       "      <td>False</td>\n",
       "    </tr>\n",
       "    <tr>\n",
       "      <th>4</th>\n",
       "      <td>https://hyp3-tibet-jpl-test-contentbucket-hrat...</td>\n",
       "      <td>https://hyp3-tibet-jpl-test-contentbucket-hrat...</td>\n",
       "      <td>2025-09-10T16:33:35+00:00</td>\n",
       "      <td>829.556</td>\n",
       "      <td>4.5</td>\n",
       "      <td>50NPL</td>\n",
       "      <td>1</td>\n",
       "      <td>7</td>\n",
       "      <td>4</td>\n",
       "      <td>none</td>\n",
       "      <td>...</td>\n",
       "      <td>transformer_optimized</td>\n",
       "      <td>high</td>\n",
       "      <td>32</td>\n",
       "      <td>2024-11-24</td>\n",
       "      <td>105</td>\n",
       "      <td>2.5</td>\n",
       "      <td>4</td>\n",
       "      <td>best</td>\n",
       "      <td>none</td>\n",
       "      <td>False</td>\n",
       "    </tr>\n",
       "  </tbody>\n",
       "</table>\n",
       "<p>5 rows × 21 columns</p>\n",
       "</div>"
      ],
      "text/plain": [
       "                                             zip_url  \\\n",
       "0  https://hyp3-tibet-jpl-test-contentbucket-hrat...   \n",
       "1  https://hyp3-tibet-jpl-test-contentbucket-hrat...   \n",
       "2  https://hyp3-tibet-jpl-test-contentbucket-hrat...   \n",
       "3  https://hyp3-tibet-jpl-test-contentbucket-hrat...   \n",
       "4  https://hyp3-tibet-jpl-test-contentbucket-hrat...   \n",
       "\n",
       "                                          browse_url  \\\n",
       "0  https://hyp3-tibet-jpl-test-contentbucket-hrat...   \n",
       "1  https://hyp3-tibet-jpl-test-contentbucket-hrat...   \n",
       "2  https://hyp3-tibet-jpl-test-contentbucket-hrat...   \n",
       "3  https://hyp3-tibet-jpl-test-contentbucket-hrat...   \n",
       "4  https://hyp3-tibet-jpl-test-contentbucket-hrat...   \n",
       "\n",
       "        product_request_time  processing_duration  \\\n",
       "0  2025-09-10T16:33:35+00:00             1025.949   \n",
       "1  2025-09-10T16:33:35+00:00             1125.674   \n",
       "2  2025-09-10T16:33:35+00:00              809.899   \n",
       "3  2025-09-10T16:33:35+00:00              627.532   \n",
       "4  2025-09-10T16:33:35+00:00              829.556   \n",
       "\n",
       "   high_confidence_alert_threshold mgrs_tile_id  post_date_buffer_days  \\\n",
       "0                              4.5        50NPL                      1   \n",
       "1                              4.5        50NPL                      1   \n",
       "2                              4.5        50NPL                      1   \n",
       "3                              4.5        50NPL                      1   \n",
       "4                              4.5        50NPL                      1   \n",
       "\n",
       "   stride_for_norm_param_estimation  n_workers_for_norm_param_estimation  \\\n",
       "0                                 7                                    4   \n",
       "1                                 7                                    4   \n",
       "2                                 7                                    4   \n",
       "3                                 7                                    4   \n",
       "4                                 7                                    4   \n",
       "\n",
       "  delta_lookback_days_mw  ...           model_source memory_strategy  \\\n",
       "0                   none  ...  transformer_optimized            high   \n",
       "1                   none  ...  transformer_optimized            high   \n",
       "2                   none  ...  transformer_optimized            high   \n",
       "3                   none  ...  transformer_optimized            high   \n",
       "4                   none  ...  transformer_optimized            high   \n",
       "\n",
       "  batch_size_for_norm_param_estimation   post_date track_number  \\\n",
       "0                                   32  2024-08-15           32   \n",
       "1                                   32  2024-10-02           32   \n",
       "2                                   32  2024-05-28          105   \n",
       "3                                   32  2024-10-07          105   \n",
       "4                                   32  2024-11-24          105   \n",
       "\n",
       "   low_confidence_alert_threshold  n_workers_for_despeckling  device  \\\n",
       "0                             2.5                          4    best   \n",
       "1                             2.5                          4    best   \n",
       "2                             2.5                          4    best   \n",
       "3                             2.5                          4    best   \n",
       "4                             2.5                          4    best   \n",
       "\n",
       "  max_pre_imgs_per_burst_mw model_compilation  \n",
       "0                      none             False  \n",
       "1                      none             False  \n",
       "2                      none             False  \n",
       "3                      none             False  \n",
       "4                      none             False  \n",
       "\n",
       "[5 rows x 21 columns]"
      ]
     },
     "execution_count": 6,
     "metadata": {},
     "output_type": "execute_result"
    }
   ],
   "source": [
    "# Load the test products CSV\n",
    "csv_path = Path('test_products.csv')\n",
    "df = pd.read_csv(csv_path)\n",
    "df.head()"
   ]
  },
  {
   "cell_type": "code",
   "execution_count": 2,
   "id": "bf822fcf",
   "metadata": {},
   "outputs": [],
   "source": [
    "def download_file(url, destination_path):\n",
    "    response = requests.get(url, stream=True)\n",
    "    response.raise_for_status()\n",
    "    \n",
    "    with open(destination_path, 'wb') as file:\n",
    "        for chunk in response.iter_content(chunk_size=8192):\n",
    "            if chunk:\n",
    "                file.write(chunk)\n",
    "    \n",
    "    return destination_path\n",
    "\n",
    "\n",
    "def unzip_file(zip_path, extract_to):\n",
    "    zip_path = Path(zip_path)\n",
    "    extract_to = Path(extract_to)\n",
    "    \n",
    "    subdirectory_name = zip_path.stem\n",
    "    \n",
    "    full_extract_path = extract_to / subdirectory_name\n",
    "    full_extract_path.mkdir(parents=True, exist_ok=True)\n",
    "    \n",
    "    with zipfile.ZipFile(zip_path, 'r') as zip_ref:\n",
    "        zip_ref.extractall(full_extract_path)\n",
    "    \n",
    "    return full_extract_path"
   ]
  },
  {
   "cell_type": "code",
   "execution_count": 16,
   "id": "c59f1e38",
   "metadata": {},
   "outputs": [
    {
     "name": "stderr",
     "output_type": "stream",
     "text": [
      "Downloading files: 100%|██████████| 60/60 [04:18<00:00,  4.30s/file] "
     ]
    },
    {
     "name": "stdout",
     "output_type": "stream",
     "text": [
      "Downloaded 60 files\n"
     ]
    },
    {
     "name": "stderr",
     "output_type": "stream",
     "text": [
      "\n"
     ]
    }
   ],
   "source": [
    "download_tasks = []\n",
    "for _, row in df.iterrows():\n",
    "    url = row['zip_url']\n",
    "    filename = Path(url).name\n",
    "    zip_path = tmp_dir / filename\n",
    "    download_tasks.append((url, zip_path))\n",
    "\n",
    "# Download all files concurrently\n",
    "downloaded_files = []\n",
    "with ThreadPoolExecutor(max_workers=10) as executor:\n",
    "    with tqdm(total=len(download_tasks), desc=\"Downloading files\", unit=\"file\") as pbar:\n",
    "        future_to_task = {executor.submit(download_file, url, dest_path): dest_path for url, dest_path in download_tasks}\n",
    "        \n",
    "        for future in future_to_task:\n",
    "            file_path = future.result()\n",
    "            downloaded_files.append(file_path)\n",
    "            pbar.update(1)\n",
    "\n",
    "print(f\"Downloaded {len(downloaded_files)} files\")"
   ]
  },
  {
   "cell_type": "code",
   "execution_count": null,
   "id": "782da95d",
   "metadata": {},
   "outputs": [
    {
     "data": {
      "text/plain": [
       "'50NPL'"
      ]
     },
     "execution_count": 11,
     "metadata": {},
     "output_type": "execute_result"
    }
   ],
   "source": [
    "mgrs_tile_id = downloaded_files[0].name.split('_')[3][1:]"
   ]
  },
  {
   "cell_type": "code",
   "execution_count": null,
   "id": "38a9b690",
   "metadata": {},
   "outputs": [],
   "source": [
    "\n",
    "# Unzip all downloaded files\n",
    "for zip_path in downloaded_files:\n",
    "    mgrs_tile_id = downloaded_files[0].name.split('_')[3][1:]\n",
    "    unconfirmed_products_dir = Path(f'unconfirmed_products/{mgrs_tile_id}')\n",
    "    unconfirmed_products_dir.mkdir(exist_ok=True)\n",
    "    unzip_file(zip_path, unconfirmed_products_dir)"
   ]
  },
  {
   "cell_type": "code",
   "execution_count": 24,
   "id": "4cd192d0",
   "metadata": {},
   "outputs": [
    {
     "data": {
      "text/plain": [
       "['50NPL']"
      ]
     },
     "execution_count": 24,
     "metadata": {},
     "output_type": "execute_result"
    }
   ],
   "source": [
    "subdirs = list(Path('unconfirmed_products').glob('*/'))\n",
    "mgrs_tiles_unzipped = [subdir.name for subdir in subdirs]\n",
    "mgrs_tiles_unzipped[:3]"
   ]
  },
  {
   "cell_type": "code",
   "execution_count": 25,
   "id": "bab9d204",
   "metadata": {},
   "outputs": [
    {
     "name": "stderr",
     "output_type": "stream",
     "text": [
      "Confirming 60 products: 100%|██████████| 60/60 [03:58<00:00,  3.98s/it]\n"
     ]
    }
   ],
   "source": [
    "\n",
    "# Run the confirmation workflow\n",
    "run_sequential_confirmation_of_dist_products_workflow(\n",
    "    unconfirmed_products_dir, \n",
    "    confirmed_products_dir / mgrs_tiles_unzipped[0]\n",
    ")"
   ]
  },
  {
   "cell_type": "code",
   "execution_count": null,
   "id": "da25fb29",
   "metadata": {},
   "outputs": [],
   "source": [
    "# cleanup_temp = True\n",
    "# if cleanup_temp:\n",
    "#     shutil.rmtree(tmp_dir)"
   ]
  }
 ],
 "metadata": {
  "kernelspec": {
   "display_name": "dist-s1-val",
   "language": "python",
   "name": "dist-s1-val"
  },
  "language_info": {
   "codemirror_mode": {
    "name": "ipython",
    "version": 3
   },
   "file_extension": ".py",
   "mimetype": "text/x-python",
   "name": "python",
   "nbconvert_exporter": "python",
   "pygments_lexer": "ipython3",
   "version": "3.13.7"
  }
 },
 "nbformat": 4,
 "nbformat_minor": 5
}
