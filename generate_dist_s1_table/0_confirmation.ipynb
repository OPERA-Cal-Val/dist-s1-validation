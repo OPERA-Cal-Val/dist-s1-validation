{
 "cells": [
  {
   "cell_type": "markdown",
   "id": "tx31qxkohm",
   "metadata": {},
   "source": [
    "# Product Confirmation Workflow\n",
    "\n",
    "This notebook downloads DIST-ALERT products from S3, unzips them, and runs the confirmation workflow."
   ]
  },
  {
   "cell_type": "code",
   "execution_count": 6,
   "id": "aee5bbb2",
   "metadata": {},
   "outputs": [],
   "source": [
    "import pandas as pd\n",
    "import shutil\n",
    "import zipfile\n",
    "import requests\n",
    "from pathlib import Path\n",
    "from tqdm.auto import tqdm\n",
    "from concurrent.futures import ThreadPoolExecutor\n",
    "from dist_s1 import run_sequential_confirmation_of_dist_products_workflow\n",
    "from utils import unzip_dist_s1_prod, wrap_run_sequential_confirmation_of_dist_products_workflow\n",
    "import multiprocessing\n"
   ]
  },
  {
   "cell_type": "code",
   "execution_count": 2,
   "id": "6f345904",
   "metadata": {},
   "outputs": [],
   "source": [
    "tmp_dir =  Path('tmp')\n",
    "unconfirmed_products_dir =  Path('unconfirmed_products')\n",
    "confirmed_products_dir =  Path('confirmed_products')\n",
    "\n",
    "tmp_dir.mkdir(exist_ok=True)\n",
    "unconfirmed_products_dir.mkdir(exist_ok=True)\n",
    "confirmed_products_dir.mkdir(exist_ok=True)"
   ]
  },
  {
   "cell_type": "code",
   "execution_count": 3,
   "id": "60e3e1b4",
   "metadata": {},
   "outputs": [
    {
     "data": {
      "text/html": [
       "<div>\n",
       "<style scoped>\n",
       "    .dataframe tbody tr th:only-of-type {\n",
       "        vertical-align: middle;\n",
       "    }\n",
       "\n",
       "    .dataframe tbody tr th {\n",
       "        vertical-align: top;\n",
       "    }\n",
       "\n",
       "    .dataframe thead th {\n",
       "        text-align: right;\n",
       "    }\n",
       "</style>\n",
       "<table border=\"1\" class=\"dataframe\">\n",
       "  <thead>\n",
       "    <tr style=\"text-align: right;\">\n",
       "      <th></th>\n",
       "      <th>zip_url</th>\n",
       "      <th>browse_url</th>\n",
       "      <th>product_request_time</th>\n",
       "      <th>processing_duration</th>\n",
       "      <th>high_confidence_alert_threshold</th>\n",
       "      <th>mgrs_tile_id</th>\n",
       "      <th>post_date_buffer_days</th>\n",
       "      <th>stride_for_norm_param_estimation</th>\n",
       "      <th>n_workers_for_norm_param_estimation</th>\n",
       "      <th>delta_lookback_days_mw</th>\n",
       "      <th>...</th>\n",
       "      <th>model_source</th>\n",
       "      <th>memory_strategy</th>\n",
       "      <th>batch_size_for_norm_param_estimation</th>\n",
       "      <th>post_date</th>\n",
       "      <th>track_number</th>\n",
       "      <th>low_confidence_alert_threshold</th>\n",
       "      <th>n_workers_for_despeckling</th>\n",
       "      <th>device</th>\n",
       "      <th>max_pre_imgs_per_burst_mw</th>\n",
       "      <th>model_compilation</th>\n",
       "    </tr>\n",
       "  </thead>\n",
       "  <tbody>\n",
       "    <tr>\n",
       "      <th>0</th>\n",
       "      <td>https://hyp3-tibet-jpl-test-contentbucket-hrat...</td>\n",
       "      <td>https://hyp3-tibet-jpl-test-contentbucket-hrat...</td>\n",
       "      <td>2025-09-30T18:19:50+00:00</td>\n",
       "      <td>1492.944</td>\n",
       "      <td>4.5</td>\n",
       "      <td>45TUK</td>\n",
       "      <td>1</td>\n",
       "      <td>7</td>\n",
       "      <td>4</td>\n",
       "      <td>none</td>\n",
       "      <td>...</td>\n",
       "      <td>transformer_optimized</td>\n",
       "      <td>high</td>\n",
       "      <td>32</td>\n",
       "      <td>2024-05-05</td>\n",
       "      <td>114</td>\n",
       "      <td>2.5</td>\n",
       "      <td>4</td>\n",
       "      <td>best</td>\n",
       "      <td>none</td>\n",
       "      <td>False</td>\n",
       "    </tr>\n",
       "    <tr>\n",
       "      <th>1</th>\n",
       "      <td>https://hyp3-tibet-jpl-test-contentbucket-hrat...</td>\n",
       "      <td>https://hyp3-tibet-jpl-test-contentbucket-hrat...</td>\n",
       "      <td>2025-09-30T18:19:50+00:00</td>\n",
       "      <td>778.462</td>\n",
       "      <td>4.5</td>\n",
       "      <td>45TUK</td>\n",
       "      <td>1</td>\n",
       "      <td>7</td>\n",
       "      <td>4</td>\n",
       "      <td>none</td>\n",
       "      <td>...</td>\n",
       "      <td>transformer_optimized</td>\n",
       "      <td>high</td>\n",
       "      <td>32</td>\n",
       "      <td>2024-10-25</td>\n",
       "      <td>12</td>\n",
       "      <td>2.5</td>\n",
       "      <td>4</td>\n",
       "      <td>best</td>\n",
       "      <td>none</td>\n",
       "      <td>False</td>\n",
       "    </tr>\n",
       "    <tr>\n",
       "      <th>2</th>\n",
       "      <td>https://hyp3-tibet-jpl-test-contentbucket-hrat...</td>\n",
       "      <td>https://hyp3-tibet-jpl-test-contentbucket-hrat...</td>\n",
       "      <td>2025-09-30T18:19:50+00:00</td>\n",
       "      <td>1609.243</td>\n",
       "      <td>4.5</td>\n",
       "      <td>45TUK</td>\n",
       "      <td>1</td>\n",
       "      <td>7</td>\n",
       "      <td>4</td>\n",
       "      <td>none</td>\n",
       "      <td>...</td>\n",
       "      <td>transformer_optimized</td>\n",
       "      <td>high</td>\n",
       "      <td>32</td>\n",
       "      <td>2024-11-13</td>\n",
       "      <td>114</td>\n",
       "      <td>2.5</td>\n",
       "      <td>4</td>\n",
       "      <td>best</td>\n",
       "      <td>none</td>\n",
       "      <td>False</td>\n",
       "    </tr>\n",
       "    <tr>\n",
       "      <th>3</th>\n",
       "      <td>https://hyp3-tibet-jpl-test-contentbucket-hrat...</td>\n",
       "      <td>https://hyp3-tibet-jpl-test-contentbucket-hrat...</td>\n",
       "      <td>2025-09-30T18:19:50+00:00</td>\n",
       "      <td>590.068</td>\n",
       "      <td>4.5</td>\n",
       "      <td>45TUK</td>\n",
       "      <td>1</td>\n",
       "      <td>7</td>\n",
       "      <td>4</td>\n",
       "      <td>none</td>\n",
       "      <td>...</td>\n",
       "      <td>transformer_optimized</td>\n",
       "      <td>high</td>\n",
       "      <td>32</td>\n",
       "      <td>2024-12-12</td>\n",
       "      <td>12</td>\n",
       "      <td>2.5</td>\n",
       "      <td>4</td>\n",
       "      <td>best</td>\n",
       "      <td>none</td>\n",
       "      <td>False</td>\n",
       "    </tr>\n",
       "    <tr>\n",
       "      <th>4</th>\n",
       "      <td>https://hyp3-tibet-jpl-test-contentbucket-hrat...</td>\n",
       "      <td>https://hyp3-tibet-jpl-test-contentbucket-hrat...</td>\n",
       "      <td>2025-09-30T18:19:50+00:00</td>\n",
       "      <td>791.816</td>\n",
       "      <td>4.5</td>\n",
       "      <td>45TUK</td>\n",
       "      <td>1</td>\n",
       "      <td>7</td>\n",
       "      <td>4</td>\n",
       "      <td>none</td>\n",
       "      <td>...</td>\n",
       "      <td>transformer_optimized</td>\n",
       "      <td>high</td>\n",
       "      <td>32</td>\n",
       "      <td>2024-08-14</td>\n",
       "      <td>12</td>\n",
       "      <td>2.5</td>\n",
       "      <td>4</td>\n",
       "      <td>best</td>\n",
       "      <td>none</td>\n",
       "      <td>False</td>\n",
       "    </tr>\n",
       "  </tbody>\n",
       "</table>\n",
       "<p>5 rows × 21 columns</p>\n",
       "</div>"
      ],
      "text/plain": [
       "                                             zip_url  \\\n",
       "0  https://hyp3-tibet-jpl-test-contentbucket-hrat...   \n",
       "1  https://hyp3-tibet-jpl-test-contentbucket-hrat...   \n",
       "2  https://hyp3-tibet-jpl-test-contentbucket-hrat...   \n",
       "3  https://hyp3-tibet-jpl-test-contentbucket-hrat...   \n",
       "4  https://hyp3-tibet-jpl-test-contentbucket-hrat...   \n",
       "\n",
       "                                          browse_url  \\\n",
       "0  https://hyp3-tibet-jpl-test-contentbucket-hrat...   \n",
       "1  https://hyp3-tibet-jpl-test-contentbucket-hrat...   \n",
       "2  https://hyp3-tibet-jpl-test-contentbucket-hrat...   \n",
       "3  https://hyp3-tibet-jpl-test-contentbucket-hrat...   \n",
       "4  https://hyp3-tibet-jpl-test-contentbucket-hrat...   \n",
       "\n",
       "        product_request_time  processing_duration  \\\n",
       "0  2025-09-30T18:19:50+00:00             1492.944   \n",
       "1  2025-09-30T18:19:50+00:00              778.462   \n",
       "2  2025-09-30T18:19:50+00:00             1609.243   \n",
       "3  2025-09-30T18:19:50+00:00              590.068   \n",
       "4  2025-09-30T18:19:50+00:00              791.816   \n",
       "\n",
       "   high_confidence_alert_threshold mgrs_tile_id  post_date_buffer_days  \\\n",
       "0                              4.5        45TUK                      1   \n",
       "1                              4.5        45TUK                      1   \n",
       "2                              4.5        45TUK                      1   \n",
       "3                              4.5        45TUK                      1   \n",
       "4                              4.5        45TUK                      1   \n",
       "\n",
       "   stride_for_norm_param_estimation  n_workers_for_norm_param_estimation  \\\n",
       "0                                 7                                    4   \n",
       "1                                 7                                    4   \n",
       "2                                 7                                    4   \n",
       "3                                 7                                    4   \n",
       "4                                 7                                    4   \n",
       "\n",
       "  delta_lookback_days_mw  ...           model_source memory_strategy  \\\n",
       "0                   none  ...  transformer_optimized            high   \n",
       "1                   none  ...  transformer_optimized            high   \n",
       "2                   none  ...  transformer_optimized            high   \n",
       "3                   none  ...  transformer_optimized            high   \n",
       "4                   none  ...  transformer_optimized            high   \n",
       "\n",
       "  batch_size_for_norm_param_estimation   post_date track_number  \\\n",
       "0                                   32  2024-05-05          114   \n",
       "1                                   32  2024-10-25           12   \n",
       "2                                   32  2024-11-13          114   \n",
       "3                                   32  2024-12-12           12   \n",
       "4                                   32  2024-08-14           12   \n",
       "\n",
       "   low_confidence_alert_threshold  n_workers_for_despeckling  device  \\\n",
       "0                             2.5                          4    best   \n",
       "1                             2.5                          4    best   \n",
       "2                             2.5                          4    best   \n",
       "3                             2.5                          4    best   \n",
       "4                             2.5                          4    best   \n",
       "\n",
       "  max_pre_imgs_per_burst_mw model_compilation  \n",
       "0                      none             False  \n",
       "1                      none             False  \n",
       "2                      none             False  \n",
       "3                      none             False  \n",
       "4                      none             False  \n",
       "\n",
       "[5 rows x 21 columns]"
      ]
     },
     "execution_count": 3,
     "metadata": {},
     "output_type": "execute_result"
    }
   ],
   "source": [
    "# Load the test products CSV\n",
    "csv_path = Path('val_products_minus_one.csv')\n",
    "df = pd.read_csv(csv_path)\n",
    "df.head()"
   ]
  },
  {
   "cell_type": "code",
   "execution_count": 4,
   "id": "bf822fcf",
   "metadata": {},
   "outputs": [],
   "source": [
    "def download_file(url, destination_path):\n",
    "    response = requests.get(url, stream=True)\n",
    "    response.raise_for_status()\n",
    "    \n",
    "    with open(destination_path, 'wb') as file:\n",
    "        for chunk in response.iter_content(chunk_size=8192):\n",
    "            if chunk:\n",
    "                file.write(chunk)\n",
    "    \n",
    "    return destination_path\n"
   ]
  },
  {
   "cell_type": "code",
   "execution_count": 5,
   "id": "c59f1e38",
   "metadata": {},
   "outputs": [
    {
     "name": "stderr",
     "output_type": "stream",
     "text": [
      "Downloading files: 100%|█| 5303/5303 [43:33<00:0"
     ]
    },
    {
     "name": "stdout",
     "output_type": "stream",
     "text": [
      "Downloaded 5303 files\n"
     ]
    },
    {
     "name": "stderr",
     "output_type": "stream",
     "text": [
      "\n"
     ]
    }
   ],
   "source": [
    "download_tasks = []\n",
    "for _, row in df.iterrows():\n",
    "    url = row['zip_url']\n",
    "    filename = Path(url).name\n",
    "    zip_path = tmp_dir / filename\n",
    "    download_tasks.append((url, zip_path))\n",
    "\n",
    "# Download all files concurrently\n",
    "downloaded_files = []\n",
    "with ThreadPoolExecutor(max_workers=10) as executor:\n",
    "    with tqdm(total=len(download_tasks), desc=\"Downloading files\", unit=\"file\") as pbar:\n",
    "        future_to_task = {executor.submit(download_file, url, dest_path): dest_path for url, dest_path in download_tasks}\n",
    "        \n",
    "        for future in future_to_task:\n",
    "            file_path = future.result()\n",
    "            downloaded_files.append(file_path)\n",
    "            pbar.update(1)\n",
    "\n",
    "print(f\"Downloaded {len(downloaded_files)} files\")"
   ]
  },
  {
   "cell_type": "markdown",
   "id": "81660ebe-a84b-402e-b359-9f58b54dbad6",
   "metadata": {},
   "source": [
    "# Unzip"
   ]
  },
  {
   "cell_type": "code",
   "execution_count": 2,
   "id": "7bdb9ec9-02e1-4904-b229-4ebf8d3fcea2",
   "metadata": {},
   "outputs": [
    {
     "data": {
      "text/plain": [
       "5303"
      ]
     },
     "execution_count": 2,
     "metadata": {},
     "output_type": "execute_result"
    }
   ],
   "source": [
    "downloaded_zips = list(Path('tmp/').glob('*.zip'))\n",
    "len(downloaded_zips)"
   ]
  },
  {
   "cell_type": "code",
   "execution_count": 10,
   "id": "4e544705-96c5-4f6a-92fd-eef79650347c",
   "metadata": {},
   "outputs": [
    {
     "name": "stdout",
     "output_type": "stream",
     "text": [
      "Total processes:  224\n",
      "Using 25 processes for unzipping.\n"
     ]
    },
    {
     "name": "stderr",
     "output_type": "stream",
     "text": [
      "Unzipping Files: 100%|█| 5303/5303 [20:41<00:00,\n"
     ]
    }
   ],
   "source": [
    "num_processes = 5 \n",
    "print('Total processes: ', multiprocessing.cpu_count())\n",
    "print(f\"Using {num_processes} processes for unzipping.\")\n",
    "\n",
    "with multiprocessing.Pool(processes=num_processes) as pool:\n",
    "    results = pool.imap(unzip_dist_s1_prod, downloaded_zips[:])\n",
    "    for _ in tqdm(results, total=len(downloaded_zips), desc=\"Unzipping Files\"):\n",
    "        pass"
   ]
  },
  {
   "cell_type": "code",
   "execution_count": 3,
   "id": "4cd192d0",
   "metadata": {},
   "outputs": [
    {
     "data": {
      "text/plain": [
       "['45TUK', '21JTF', '33QTU']"
      ]
     },
     "execution_count": 3,
     "metadata": {},
     "output_type": "execute_result"
    }
   ],
   "source": [
    "subdirs = list(Path('unconfirmed_products').glob('*/'))\n",
    "mgrs_tiles_unzipped = [subdir.name for subdir in subdirs]\n",
    "mgrs_tiles_unzipped[:3]"
   ]
  },
  {
   "cell_type": "code",
   "execution_count": 14,
   "id": "c0d34b6c-70cb-48c0-b9ef-6cc69cb87f02",
   "metadata": {},
   "outputs": [],
   "source": [
    "# cleanup_temp = True\n",
    "# if cleanup_temp:\n",
    "#     shutil.rmtree(tmp_dir)"
   ]
  },
  {
   "cell_type": "markdown",
   "id": "a57e555b-bb3b-4233-bb65-0e85f4d9d330",
   "metadata": {},
   "source": [
    "# Confirmation"
   ]
  },
  {
   "cell_type": "code",
   "execution_count": 17,
   "id": "bab9d204",
   "metadata": {},
   "outputs": [],
   "source": [
    "# %%time\n",
    "\n",
    "# for mgrs_tile_id in tqdm(mgrs_tiles_unzipped[2:]):\n",
    "#     # Run the confirmation workflow\n",
    "#     run_sequential_confirmation_of_dist_products_workflow(\n",
    "#         unconfirmed_products_dir / mgrs_tile_id, \n",
    "#         confirmed_products_dir / mgrs_tile_id\n",
    "#     )"
   ]
  },
  {
   "cell_type": "code",
   "execution_count": 9,
   "id": "e01922a5-6085-45b4-bf34-03463ba06ba4",
   "metadata": {},
   "outputs": [
    {
     "name": "stderr",
     "output_type": "stream",
     "text": [
      "Confirming 30 products: 100%|█| 30/30 [02:17<00/\n",
      "Confirming 25 products: 100%|█| 25/25 [03:39<00\n",
      "Confirming 30 products: 100%|█| 30/30 [03:58<00\n",
      "Confirming 27 products: 100%|█| 27/27 [03:47<00\n",
      "Confirming 61 products: 100%|█| 61/61 [08:09<00\n",
      "Confirming 60 products: 100%|█| 60/60 [08:15<00\n",
      "Confirming 57 products: 100%|█| 57/57 [08:34<005\n",
      "Confirming 77 products: 100%|█| 77/77 [09:08<00\n",
      "Confirming 10 products: 100%|█| 10/10 [01:20<00\n",
      "Confirming 89 products: 100%|█| 89/89 [11:40<00\n",
      "Confirming 39 products: 100%|█| 39/39 [05:23<00\n",
      "Confirming 119 products: 100%|█| 119/119 [13:42\n",
      "Confirming 57 products: 100%|█| 57/57 [05:11<00\n",
      "Confirming 84 products: 100%|█| 84/84 [13:50<00\n",
      "Confirming 92 products: 100%|█| 92/92 [11:40<002\n",
      "Confirming 52 products: 100%|█| 52/52 [07:30<00,\n",
      "Confirming 89 products: 100%|█| 89/89 [12:34<00\n",
      "Confirming 58 products: 100%|█| 58/58 [07:17<001\n",
      "Confirming 58 products: 100%|█| 58/58 [07:17<00\n",
      "Confirming 28 products: 100%|█| 28/28 [04:38<00\n",
      "Confirming 55 products: 100%|█| 55/55 [07:38<00\n",
      "Confirming 51 products: 100%|█| 51/51 [06:42<00\n",
      "Confirming 48 products: 100%|█| 48/48 [06:10<00\n",
      "Confirming 59 products: 100%|█| 59/59 [10:25<00\n",
      "Confirming 121 products: 100%|█| 121/121 [15:55\n",
      "Confirming 65 products: 100%|█| 65/65 [08:06<00\n",
      "Confirming 79 products: 100%|█| 79/79 [09:58<00\n",
      "Confirming 54 products: 100%|█| 54/54 [06:52<00\n",
      "Confirming 89 products: 100%|█| 89/89 [10:27<00\n",
      "Confirming 180 products: 100%|█| 180/180 [23:03\n",
      "Confirming 56 products: 100%|█| 56/56 [07:40<004\n",
      "Confirming 30 products: 100%|█| 30/30 [02:52<00\n",
      "Confirming 85 products: 100%|█| 85/85 [11:30<00\n",
      "Confirming 150 products: 100%|█| 150/150 [22:23\n",
      "Confirming 41 products: 100%|█| 41/41 [03:25<000\n",
      "Confirming 28 products: 100%|█| 28/28 [03:33<00\n",
      "Confirming 53 products: 100%|█| 53/53 [06:05<00\n",
      "Confirming 51 products: 100%|█| 51/51 [06:42<00\n",
      "Confirming 48 products: 100%|█| 48/48 [06:12<00\n",
      "Confirming 48 products: 100%|█| 48/48 [07:07<00\n",
      "Confirming 51 products: 100%|█| 51/51 [05:58<00\n",
      "Confirming 61 products: 100%|█| 61/61 [08:18<00\n",
      "Confirming 55 products: 100%|█| 55/55 [06:22<00\n",
      "Confirming 53 products: 100%|█| 53/53 [07:03<00\n",
      "Confirming 30 products: 100%|█| 30/30 [04:23<00\n",
      "Confirming 29 products: 100%|█| 29/29 [04:02<00\n",
      "Confirming 30 products: 100%|█| 30/30 [02:06<00\n",
      "Confirming 28 products: 100%|█| 28/28 [04:35<00\n",
      "Confirming 60 products: 100%|█| 60/60 [07:02<00\n",
      "Confirming 210 products: 100%|█| 210/210 [31:43\n",
      "Confirming 33 products: 100%|█| 33/33 [04:36<001\n",
      "Confirming 34 products: 100%|█| 34/34 [04:32<00\n",
      "Confirming 83 products: 100%|█| 83/83 [09:58<00\n",
      "Confirming 30 products: 100%|█| 30/30 [02:29<00\n",
      "Confirming 54 products: 100%|█| 54/54 [07:20<00\n",
      "Confirming 39 products: 100%|█| 39/39 [04:42<00\n",
      "Confirming 56 products: 100%|█| 56/56 [07:53<00\n",
      "Confirming 30 products: 100%|█| 30/30 [04:04<00\n",
      "Confirming 99 products: 100%|█| 99/99 [11:22<00\n",
      "Confirming 122 products: 100%|█| 122/122 [16:08\n",
      "Confirming 29 products: 100%|█| 29/29 [03:16<00,\n",
      "Confirming 30 products: 100%|█| 30/30 [04:00<00\n",
      "Confirming 53 products: 100%|█| 53/53 [06:59<00\n",
      "Confirming 88 products: 100%|█| 88/88 [12:58<00\n",
      "Confirming 88 products: 100%|█| 88/88 [11:29<00\n",
      "Confirming 152 products: 100%|█| 152/152 [23:39\n",
      "Confirming Products:  79%|▊| 66/84 [1:02:51<17:0\n"
     ]
    }
   ],
   "source": [
    "with multiprocessing.Pool(processes=10) as pool:\n",
    "    results = pool.imap(wrap_run_sequential_confirmation_of_dist_products_workflow, mgrs_tiles_unzipped[18:])\n",
    "    for _ in tqdm(results, total=len(mgrs_tiles_unzipped), desc=\"Confirming Products\"):\n",
    "        pass"
   ]
  }
 ],
 "metadata": {
  "kernelspec": {
   "display_name": "dist-s1-val",
   "language": "python",
   "name": "dist-s1-val"
  },
  "language_info": {
   "codemirror_mode": {
    "name": "ipython",
    "version": 3
   },
   "file_extension": ".py",
   "mimetype": "text/x-python",
   "name": "python",
   "nbconvert_exporter": "python",
   "pygments_lexer": "ipython3",
   "version": "3.13.7"
  }
 },
 "nbformat": 4,
 "nbformat_minor": 5
}
