{
 "cells": [
  {
   "cell_type": "code",
   "execution_count": 1,
   "id": "f17f1b8f",
   "metadata": {},
   "outputs": [
    {
     "name": "stderr",
     "output_type": "stream",
     "text": [
      "/mnt/trappist-r0/cmarshak/mambaforge/envs/dist-s1-val/lib/python3.13/site-packages/tqdm/auto.py:21: TqdmWarning: IProgress not found. Please update jupyter and ipywidgets. See https://ipywidgets.readthedocs.io/en/stable/user_install.html\n",
      "  from .autonotebook import tqdm as notebook_tqdm\n"
     ]
    }
   ],
   "source": [
    "import rasterio\n",
    "from rasterio.windows import Window\n",
    "from pathlib import Path\n",
    "from pyproj import Transformer\n",
    "import pandas as pd\n",
    "import geopandas as gpd\n",
    "from tqdm.auto import tqdm\n",
    "from rasterio.crs import CRS\n"
   ]
  },
  {
   "cell_type": "code",
   "execution_count": 2,
   "id": "2733f22e",
   "metadata": {
    "editable": true,
    "slideshow": {
     "slide_type": ""
    },
    "tags": []
   },
   "outputs": [],
   "source": [
    "confirmed_products_dir = Path('confirmed_products')"
   ]
  },
  {
   "cell_type": "code",
   "execution_count": 59,
   "id": "0e52800b",
   "metadata": {
    "editable": true,
    "slideshow": {
     "slide_type": ""
    },
    "tags": [
     "parameters"
    ]
   },
   "outputs": [
    {
     "data": {
      "text/plain": [
       "'50NPL'"
      ]
     },
     "execution_count": 59,
     "metadata": {},
     "output_type": "execute_result"
    }
   ],
   "source": [
    "MGRS_TILE_ID = '50NPL'\n",
    "MGRS_TILE_ID"
   ]
  },
  {
   "cell_type": "code",
   "execution_count": 49,
   "id": "71ad284c",
   "metadata": {
    "editable": true,
    "slideshow": {
     "slide_type": ""
    },
    "tags": []
   },
   "outputs": [],
   "source": [
    "import rasterio\n",
    "from rasterio.windows import Window\n",
    "from pyproj import Transformer\n",
    "\n",
    "def get_pixel_value(tif, lon, lat):\n",
    "    with rasterio.open(tif) as src:\n",
    "        transformer = Transformer.from_crs(\"EPSG:4326\", src.crs, always_xy=True)\n",
    "        \n",
    "        x_utm, y_utm = transformer.transform(lon, lat)\n",
    "        \n",
    "        row, col = src.index(x_utm, y_utm)\n",
    "        if row < 0 or row >= src.height or col < 0 or col >= src.width:\n",
    "            raise ValueError(\"Point is outside the bounds of the raster\")\n",
    "        \n",
    "        # Create window and read pixel value\n",
    "        window = Window(col, row, 1, 1)\n",
    "        val = src.read(1, window=window)[0, 0]\n",
    "    \n",
    "    return val"
   ]
  },
  {
   "cell_type": "code",
   "execution_count": 50,
   "id": "6a98b783",
   "metadata": {},
   "outputs": [
    {
     "data": {
      "text/plain": [
       "[PosixPath('confirmed_products/33QTU/OPERA_L3_DIST-ALERT-S1_T33QTU_20240116T171541Z_20251001T025943Z_S1_30_v0.1'),\n",
       " PosixPath('confirmed_products/33QTU/OPERA_L3_DIST-ALERT-S1_T33QTU_20240121T172349Z_20251001T093945Z_S1_30_v0.1')]"
      ]
     },
     "execution_count": 50,
     "metadata": {},
     "output_type": "execute_result"
    }
   ],
   "source": [
    "mgrs_ts_dir = confirmed_products_dir / MGRS_TILE_ID\n",
    "mgrs_ts_prods = sorted(list(mgrs_ts_dir.glob('OPERA*/')))\n",
    "mgrs_ts_prods[:2]\n"
   ]
  },
  {
   "cell_type": "code",
   "execution_count": 51,
   "id": "744729df",
   "metadata": {},
   "outputs": [
    {
     "data": {
      "text/plain": [
       "[PosixPath('confirmed_products/33QTU/OPERA_L3_DIST-ALERT-S1_T33QTU_20240116T171541Z_20251001T025943Z_S1_30_v0.1/OPERA_L3_DIST-ALERT-S1_T33QTU_20240116T171541Z_20251001T025943Z_S1_30_v0.1_GEN-DIST-STATUS.tif'),\n",
       " PosixPath('confirmed_products/33QTU/OPERA_L3_DIST-ALERT-S1_T33QTU_20240121T172349Z_20251001T093945Z_S1_30_v0.1/OPERA_L3_DIST-ALERT-S1_T33QTU_20240121T172349Z_20251001T093945Z_S1_30_v0.1_GEN-DIST-STATUS.tif')]"
      ]
     },
     "execution_count": 51,
     "metadata": {},
     "output_type": "execute_result"
    }
   ],
   "source": [
    "mgrs_ts_status = [prod_dir / f'{prod_dir.name}_GEN-DIST-STATUS.tif' for prod_dir in mgrs_ts_prods]\n",
    "mgrs_ts_status[:2]"
   ]
  },
  {
   "cell_type": "code",
   "execution_count": 52,
   "id": "bec202fe",
   "metadata": {},
   "outputs": [
    {
     "data": {
      "text/plain": [
       "[datetime.date(2024, 1, 16), datetime.date(2024, 1, 21)]"
      ]
     },
     "execution_count": 52,
     "metadata": {},
     "output_type": "execute_result"
    }
   ],
   "source": [
    "mgrs_ts_dates = [pd.to_datetime(prod_dir.name.split('_')[4]).date() for prod_dir in mgrs_ts_prods]\n",
    "mgrs_ts_dates[:2]"
   ]
  },
  {
   "cell_type": "markdown",
   "id": "522e342d",
   "metadata": {},
   "source": [
    "# Dist Tables"
   ]
  },
  {
   "cell_type": "code",
   "execution_count": 53,
   "id": "4a0448fb",
   "metadata": {},
   "outputs": [
    {
     "data": {
      "text/html": [
       "<div>\n",
       "<style scoped>\n",
       "    .dataframe tbody tr th:only-of-type {\n",
       "        vertical-align: middle;\n",
       "    }\n",
       "\n",
       "    .dataframe tbody tr th {\n",
       "        vertical-align: top;\n",
       "    }\n",
       "\n",
       "    .dataframe thead th {\n",
       "        text-align: right;\n",
       "    }\n",
       "</style>\n",
       "<table border=\"1\" class=\"dataframe\">\n",
       "  <thead>\n",
       "    <tr style=\"text-align: right;\">\n",
       "      <th></th>\n",
       "      <th>ID</th>\n",
       "      <th>Block</th>\n",
       "      <th>subID</th>\n",
       "      <th>blockStratum</th>\n",
       "      <th>substratum</th>\n",
       "      <th>zone</th>\n",
       "      <th>x</th>\n",
       "      <th>y</th>\n",
       "      <th>centx</th>\n",
       "      <th>centy</th>\n",
       "      <th>long</th>\n",
       "      <th>lat</th>\n",
       "      <th>MGRS</th>\n",
       "    </tr>\n",
       "  </thead>\n",
       "  <tbody>\n",
       "    <tr>\n",
       "      <th>0</th>\n",
       "      <td>30961_1</td>\n",
       "      <td>30961</td>\n",
       "      <td>1</td>\n",
       "      <td>treelossTF</td>\n",
       "      <td>3</td>\n",
       "      <td>33</td>\n",
       "      <td>372932.570128</td>\n",
       "      <td>545394.967628</td>\n",
       "      <td>372945</td>\n",
       "      <td>545385</td>\n",
       "      <td>13.854048</td>\n",
       "      <td>4.933158</td>\n",
       "      <td>33NUF</td>\n",
       "    </tr>\n",
       "    <tr>\n",
       "      <th>1</th>\n",
       "      <td>30961_2</td>\n",
       "      <td>30961</td>\n",
       "      <td>2</td>\n",
       "      <td>treelossTF</td>\n",
       "      <td>2</td>\n",
       "      <td>33</td>\n",
       "      <td>372728.616472</td>\n",
       "      <td>542585.990364</td>\n",
       "      <td>372735</td>\n",
       "      <td>542595</td>\n",
       "      <td>13.852197</td>\n",
       "      <td>4.907920</td>\n",
       "      <td>33NUF</td>\n",
       "    </tr>\n",
       "    <tr>\n",
       "      <th>2</th>\n",
       "      <td>30961_3</td>\n",
       "      <td>30961</td>\n",
       "      <td>3</td>\n",
       "      <td>treelossTF</td>\n",
       "      <td>1</td>\n",
       "      <td>33</td>\n",
       "      <td>373846.916077</td>\n",
       "      <td>547093.248106</td>\n",
       "      <td>373845</td>\n",
       "      <td>547095</td>\n",
       "      <td>13.862138</td>\n",
       "      <td>4.948639</td>\n",
       "      <td>33NUF</td>\n",
       "    </tr>\n",
       "    <tr>\n",
       "      <th>3</th>\n",
       "      <td>30961_4</td>\n",
       "      <td>30961</td>\n",
       "      <td>4</td>\n",
       "      <td>treelossTF</td>\n",
       "      <td>4</td>\n",
       "      <td>33</td>\n",
       "      <td>371390.914129</td>\n",
       "      <td>546069.082218</td>\n",
       "      <td>371385</td>\n",
       "      <td>546075</td>\n",
       "      <td>13.839969</td>\n",
       "      <td>4.939375</td>\n",
       "      <td>33NUF</td>\n",
       "    </tr>\n",
       "    <tr>\n",
       "      <th>4</th>\n",
       "      <td>30961_5</td>\n",
       "      <td>30961</td>\n",
       "      <td>5</td>\n",
       "      <td>treelossTF</td>\n",
       "      <td>3</td>\n",
       "      <td>33</td>\n",
       "      <td>374504.487544</td>\n",
       "      <td>546457.554880</td>\n",
       "      <td>374505</td>\n",
       "      <td>546465</td>\n",
       "      <td>13.868099</td>\n",
       "      <td>4.942951</td>\n",
       "      <td>33NUF</td>\n",
       "    </tr>\n",
       "  </tbody>\n",
       "</table>\n",
       "</div>"
      ],
      "text/plain": [
       "        ID  Block  subID blockStratum  substratum  zone              x  \\\n",
       "0  30961_1  30961      1   treelossTF           3    33  372932.570128   \n",
       "1  30961_2  30961      2   treelossTF           2    33  372728.616472   \n",
       "2  30961_3  30961      3   treelossTF           1    33  373846.916077   \n",
       "3  30961_4  30961      4   treelossTF           4    33  371390.914129   \n",
       "4  30961_5  30961      5   treelossTF           3    33  374504.487544   \n",
       "\n",
       "               y   centx   centy       long       lat   MGRS  \n",
       "0  545394.967628  372945  545385  13.854048  4.933158  33NUF  \n",
       "1  542585.990364  372735  542595  13.852197  4.907920  33NUF  \n",
       "2  547093.248106  373845  547095  13.862138  4.948639  33NUF  \n",
       "3  546069.082218  371385  546075  13.839969  4.939375  33NUF  \n",
       "4  546457.554880  374505  546465  13.868099  4.942951  33NUF  "
      ]
     },
     "execution_count": 53,
     "metadata": {},
     "output_type": "execute_result"
    }
   ],
   "source": [
    "df_val = pd.read_csv('../tables/reference_data/selectedpointsLL.csv')\n",
    "df_val.head()"
   ]
  },
  {
   "cell_type": "code",
   "execution_count": 54,
   "id": "8fb61627",
   "metadata": {
    "scrolled": true
   },
   "outputs": [
    {
     "data": {
      "text/plain": [
       "[{'ID': '116332_1',\n",
       "  'Block': 116332,\n",
       "  'subID': 1,\n",
       "  'blockStratum': 'gen',\n",
       "  'substratum': 2,\n",
       "  'zone': 33,\n",
       "  'x': 242657.835980735,\n",
       "  'y': 1796125.72502618,\n",
       "  'centx': 242655,\n",
       "  'centy': 1796115,\n",
       "  'long': 12.5925201960045,\n",
       "  'lat': 16.2320438984228,\n",
       "  'MGRS': '33QTU'},\n",
       " {'ID': '116332_2',\n",
       "  'Block': 116332,\n",
       "  'subID': 2,\n",
       "  'blockStratum': 'gen',\n",
       "  'substratum': 2,\n",
       "  'zone': 33,\n",
       "  'x': 245545.573985477,\n",
       "  'y': 1796593.38461452,\n",
       "  'centx': 245535,\n",
       "  'centy': 1796595,\n",
       "  'long': 12.6193937318321,\n",
       "  'lat': 16.2366834399998,\n",
       "  'MGRS': '33QTU'}]"
      ]
     },
     "execution_count": 54,
     "metadata": {},
     "output_type": "execute_result"
    }
   ],
   "source": [
    "df_val_mgrs = df_val[df_val['MGRS'] == MGRS_TILE_ID].reset_index(drop=True)\n",
    "sites_in_mgrs_tile = df_val_mgrs.to_dict(orient='records')\n",
    "sites_in_mgrs_tile[:2]"
   ]
  },
  {
   "cell_type": "code",
   "execution_count": 55,
   "id": "4d2e9511",
   "metadata": {},
   "outputs": [
    {
     "name": "stderr",
     "output_type": "stream",
     "text": [
      "Processing sites: 100%|█| 9/9 [00:01<00:00,  8.6\n"
     ]
    },
    {
     "data": {
      "text/html": [
       "<div>\n",
       "<style scoped>\n",
       "    .dataframe tbody tr th:only-of-type {\n",
       "        vertical-align: middle;\n",
       "    }\n",
       "\n",
       "    .dataframe tbody tr th {\n",
       "        vertical-align: top;\n",
       "    }\n",
       "\n",
       "    .dataframe thead th {\n",
       "        text-align: right;\n",
       "    }\n",
       "</style>\n",
       "<table border=\"1\" class=\"dataframe\">\n",
       "  <thead>\n",
       "    <tr style=\"text-align: right;\">\n",
       "      <th></th>\n",
       "      <th>site_id</th>\n",
       "      <th>date</th>\n",
       "      <th>labels</th>\n",
       "    </tr>\n",
       "  </thead>\n",
       "  <tbody>\n",
       "    <tr>\n",
       "      <th>0</th>\n",
       "      <td>116332_2</td>\n",
       "      <td>2024-01-16</td>\n",
       "      <td>0</td>\n",
       "    </tr>\n",
       "    <tr>\n",
       "      <th>1</th>\n",
       "      <td>116332_2</td>\n",
       "      <td>2024-01-21</td>\n",
       "      <td>0</td>\n",
       "    </tr>\n",
       "    <tr>\n",
       "      <th>2</th>\n",
       "      <td>116332_2</td>\n",
       "      <td>2024-01-28</td>\n",
       "      <td>0</td>\n",
       "    </tr>\n",
       "    <tr>\n",
       "      <th>3</th>\n",
       "      <td>116332_2</td>\n",
       "      <td>2024-02-02</td>\n",
       "      <td>0</td>\n",
       "    </tr>\n",
       "    <tr>\n",
       "      <th>4</th>\n",
       "      <td>116332_2</td>\n",
       "      <td>2024-02-09</td>\n",
       "      <td>0</td>\n",
       "    </tr>\n",
       "  </tbody>\n",
       "</table>\n",
       "</div>"
      ],
      "text/plain": [
       "    site_id        date  labels\n",
       "0  116332_2  2024-01-16       0\n",
       "1  116332_2  2024-01-21       0\n",
       "2  116332_2  2024-01-28       0\n",
       "3  116332_2  2024-02-02       0\n",
       "4  116332_2  2024-02-09       0"
      ]
     },
     "execution_count": 55,
     "metadata": {},
     "output_type": "execute_result"
    }
   ],
   "source": [
    "tables = []\n",
    "for site in tqdm(sites_in_mgrs_tile[1:], desc='Processing sites'):\n",
    "    site_id = site['ID']\n",
    "    site_lon = site['long']\n",
    "    site_lat = site['lat'] \n",
    "\n",
    "    labels = [get_pixel_value(tif, site_lon, site_lat) for tif in mgrs_ts_status]\n",
    "\n",
    "    df_dist_s1_table_site = pd.DataFrame({\n",
    "        'site_id': [site_id] * len(labels),\n",
    "        'date': mgrs_ts_dates,\n",
    "        # 'longitude': [site_lon] * len(labels),\n",
    "        # 'latitude': [site_lat] * len(labels),\n",
    "        'labels': labels,\n",
    "    })\n",
    "    tables.append(df_dist_s1_table_site)\n",
    "\n",
    "tables[0].head()\n"
   ]
  },
  {
   "cell_type": "code",
   "execution_count": 56,
   "id": "40216c82",
   "metadata": {},
   "outputs": [],
   "source": [
    "for table in tables:\n",
    "    site_id = table['site_id'].tolist()[0]\n",
    "    block_id = site_id.split('_')[0]\n",
    "    table_dir = Path(f'dist_s1_label_tables/{block_id}')\n",
    "    table_dir.mkdir(exist_ok=True, parents=True)\n",
    "    table_path = table_dir / f'{site_id}.csv'\n",
    "    table.to_csv(table_path, index=False)\n"
   ]
  },
  {
   "cell_type": "markdown",
   "id": "7c1426e5",
   "metadata": {},
   "source": [
    "# Generate Site Vector Table"
   ]
  },
  {
   "cell_type": "code",
   "execution_count": 57,
   "id": "b00e69c2",
   "metadata": {},
   "outputs": [
    {
     "data": {
      "text/html": [
       "<div>\n",
       "<style scoped>\n",
       "    .dataframe tbody tr th:only-of-type {\n",
       "        vertical-align: middle;\n",
       "    }\n",
       "\n",
       "    .dataframe tbody tr th {\n",
       "        vertical-align: top;\n",
       "    }\n",
       "\n",
       "    .dataframe thead th {\n",
       "        text-align: right;\n",
       "    }\n",
       "</style>\n",
       "<table border=\"1\" class=\"dataframe\">\n",
       "  <thead>\n",
       "    <tr style=\"text-align: right;\">\n",
       "      <th></th>\n",
       "      <th>ID</th>\n",
       "      <th>geometry</th>\n",
       "    </tr>\n",
       "  </thead>\n",
       "  <tbody>\n",
       "    <tr>\n",
       "      <th>0</th>\n",
       "      <td>116332_1</td>\n",
       "      <td>POINT (12.59252 16.23204)</td>\n",
       "    </tr>\n",
       "    <tr>\n",
       "      <th>1</th>\n",
       "      <td>116332_2</td>\n",
       "      <td>POINT (12.61939 16.23668)</td>\n",
       "    </tr>\n",
       "    <tr>\n",
       "      <th>2</th>\n",
       "      <td>116332_3</td>\n",
       "      <td>POINT (12.59444 16.21255)</td>\n",
       "    </tr>\n",
       "    <tr>\n",
       "      <th>3</th>\n",
       "      <td>116332_4</td>\n",
       "      <td>POINT (12.6247 16.26195)</td>\n",
       "    </tr>\n",
       "    <tr>\n",
       "      <th>4</th>\n",
       "      <td>116332_5</td>\n",
       "      <td>POINT (12.60629 16.27664)</td>\n",
       "    </tr>\n",
       "  </tbody>\n",
       "</table>\n",
       "</div>"
      ],
      "text/plain": [
       "         ID                   geometry\n",
       "0  116332_1  POINT (12.59252 16.23204)\n",
       "1  116332_2  POINT (12.61939 16.23668)\n",
       "2  116332_3  POINT (12.59444 16.21255)\n",
       "3  116332_4   POINT (12.6247 16.26195)\n",
       "4  116332_5  POINT (12.60629 16.27664)"
      ]
     },
     "execution_count": 57,
     "metadata": {},
     "output_type": "execute_result"
    }
   ],
   "source": [
    "df_site_geo = gpd.GeoDataFrame(df_val_mgrs[['ID']],\n",
    "                               geometry=gpd.points_from_xy(df_val_mgrs.long, \n",
    "                                                           df_val_mgrs.lat), \n",
    "                               crs=CRS.from_epsg(4326))\n",
    "df_site_geo.head()\n"
   ]
  },
  {
   "cell_type": "code",
   "execution_count": 58,
   "id": "78406b47",
   "metadata": {},
   "outputs": [],
   "source": [
    "df_site_geo.to_file(table_dir / 'sites.geojson', driver='GeoJSON')"
   ]
  }
 ],
 "metadata": {
  "kernelspec": {
   "display_name": "dist-s1-val",
   "language": "python",
   "name": "dist-s1-val"
  },
  "language_info": {
   "codemirror_mode": {
    "name": "ipython",
    "version": 3
   },
   "file_extension": ".py",
   "mimetype": "text/x-python",
   "name": "python",
   "nbconvert_exporter": "python",
   "pygments_lexer": "ipython3",
   "version": "3.13.7"
  }
 },
 "nbformat": 4,
 "nbformat_minor": 5
}
