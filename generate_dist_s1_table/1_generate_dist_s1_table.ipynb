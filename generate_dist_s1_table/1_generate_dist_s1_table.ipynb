{
 "cells": [
  {
   "cell_type": "code",
   "execution_count": 184,
   "id": "f17f1b8f",
   "metadata": {},
   "outputs": [],
   "source": [
    "import rasterio\n",
    "from rasterio.windows import Window\n",
    "from pathlib import Path\n",
    "from pyproj import Transformer\n",
    "import pandas as pd\n",
    "import geopandas as gpd\n",
    "from tqdm.auto import tqdm\n",
    "from rasterio.crs import CRS\n"
   ]
  },
  {
   "cell_type": "code",
   "execution_count": 185,
   "id": "2733f22e",
   "metadata": {
    "editable": true,
    "slideshow": {
     "slide_type": ""
    },
    "tags": []
   },
   "outputs": [],
   "source": [
    "confirmed_products_dir = Path('confirmed_products')"
   ]
  },
  {
   "cell_type": "code",
   "execution_count": 186,
   "id": "0e52800b",
   "metadata": {
    "editable": true,
    "slideshow": {
     "slide_type": ""
    },
    "tags": [
     "parameters"
    ]
   },
   "outputs": [
    {
     "data": {
      "text/plain": [
       "'45TUK'"
      ]
     },
     "execution_count": 186,
     "metadata": {},
     "output_type": "execute_result"
    }
   ],
   "source": [
    "MGRS_TILE_ID = '45TUK'\n",
    "MGRS_TILE_ID"
   ]
  },
  {
   "cell_type": "code",
   "execution_count": 187,
   "id": "71ad284c",
   "metadata": {
    "editable": true,
    "slideshow": {
     "slide_type": ""
    },
    "tags": []
   },
   "outputs": [],
   "source": [
    "import rasterio\n",
    "from rasterio.windows import Window\n",
    "from pyproj import Transformer\n",
    "\n",
    "def get_pixel_value(tif, lon, lat):\n",
    "    with rasterio.open(tif) as src:\n",
    "        transformer = Transformer.from_crs(\"EPSG:4326\", src.crs, always_xy=True)\n",
    "        \n",
    "        x_utm, y_utm = transformer.transform(lon, lat)\n",
    "        row, col = src.index(x_utm, y_utm)\n",
    "        if row < 0 or row >= src.height or col < 0 or col >= src.width:\n",
    "            raise ValueError(\"Point is outside the bounds of the raster\")\n",
    "        \n",
    "        # Create window and read pixel value\n",
    "        window = Window(col, row, 1, 1)\n",
    "        val = src.read(1, window=window)[0, 0]\n",
    "    \n",
    "    return val"
   ]
  },
  {
   "cell_type": "code",
   "execution_count": 188,
   "id": "6a98b783",
   "metadata": {},
   "outputs": [
    {
     "data": {
      "text/plain": [
       "[PosixPath('confirmed_products/45TUK/OPERA_L3_DIST-ALERT-S1_T45TUK_20240106T121042Z_20251001T100708Z_S1_30_v0.1'),\n",
       " PosixPath('confirmed_products/45TUK/OPERA_L3_DIST-ALERT-S1_T45TUK_20240111T121852Z_20251001T044229Z_S1_30_v0.1')]"
      ]
     },
     "execution_count": 188,
     "metadata": {},
     "output_type": "execute_result"
    }
   ],
   "source": [
    "mgrs_ts_dir = confirmed_products_dir / MGRS_TILE_ID\n",
    "mgrs_ts_prods = sorted(list(mgrs_ts_dir.glob('OPERA*/')))\n",
    "mgrs_ts_prods[:2]\n"
   ]
  },
  {
   "cell_type": "code",
   "execution_count": 189,
   "id": "744729df",
   "metadata": {},
   "outputs": [
    {
     "data": {
      "text/plain": [
       "[PosixPath('confirmed_products/45TUK/OPERA_L3_DIST-ALERT-S1_T45TUK_20240106T121042Z_20251001T100708Z_S1_30_v0.1/OPERA_L3_DIST-ALERT-S1_T45TUK_20240106T121042Z_20251001T100708Z_S1_30_v0.1_GEN-DIST-STATUS.tif'),\n",
       " PosixPath('confirmed_products/45TUK/OPERA_L3_DIST-ALERT-S1_T45TUK_20240111T121852Z_20251001T044229Z_S1_30_v0.1/OPERA_L3_DIST-ALERT-S1_T45TUK_20240111T121852Z_20251001T044229Z_S1_30_v0.1_GEN-DIST-STATUS.tif')]"
      ]
     },
     "execution_count": 189,
     "metadata": {},
     "output_type": "execute_result"
    }
   ],
   "source": [
    "mgrs_ts_status = [prod_dir / f'{prod_dir.name}_GEN-DIST-STATUS.tif' for prod_dir in mgrs_ts_prods]\n",
    "mgrs_ts_status[:2]"
   ]
  },
  {
   "cell_type": "code",
   "execution_count": 190,
   "id": "bec202fe",
   "metadata": {},
   "outputs": [
    {
     "data": {
      "text/plain": [
       "[datetime.date(2024, 1, 6), datetime.date(2024, 1, 11)]"
      ]
     },
     "execution_count": 190,
     "metadata": {},
     "output_type": "execute_result"
    }
   ],
   "source": [
    "mgrs_ts_dates = [pd.to_datetime(prod_dir.name.split('_')[4]).date() for prod_dir in mgrs_ts_prods]\n",
    "mgrs_ts_dates[:2]"
   ]
  },
  {
   "cell_type": "markdown",
   "id": "522e342d",
   "metadata": {},
   "source": [
    "# Dist Tables"
   ]
  },
  {
   "cell_type": "code",
   "execution_count": 193,
   "id": "4a0448fb",
   "metadata": {},
   "outputs": [
    {
     "data": {
      "text/html": [
       "<div>\n",
       "<style scoped>\n",
       "    .dataframe tbody tr th:only-of-type {\n",
       "        vertical-align: middle;\n",
       "    }\n",
       "\n",
       "    .dataframe tbody tr th {\n",
       "        vertical-align: top;\n",
       "    }\n",
       "\n",
       "    .dataframe thead th {\n",
       "        text-align: right;\n",
       "    }\n",
       "</style>\n",
       "<table border=\"1\" class=\"dataframe\">\n",
       "  <thead>\n",
       "    <tr style=\"text-align: right;\">\n",
       "      <th></th>\n",
       "      <th>ID</th>\n",
       "      <th>Block</th>\n",
       "      <th>subID</th>\n",
       "      <th>blockStratum</th>\n",
       "      <th>substratum</th>\n",
       "      <th>zone</th>\n",
       "      <th>x</th>\n",
       "      <th>y</th>\n",
       "      <th>centx</th>\n",
       "      <th>centy</th>\n",
       "      <th>long</th>\n",
       "      <th>lat</th>\n",
       "      <th>MGRS</th>\n",
       "    </tr>\n",
       "  </thead>\n",
       "  <tbody>\n",
       "    <tr>\n",
       "      <th>0</th>\n",
       "      <td>30961_1</td>\n",
       "      <td>30961</td>\n",
       "      <td>1</td>\n",
       "      <td>treelossTF</td>\n",
       "      <td>3</td>\n",
       "      <td>33</td>\n",
       "      <td>372932.570128</td>\n",
       "      <td>5.453950e+05</td>\n",
       "      <td>372945</td>\n",
       "      <td>545385</td>\n",
       "      <td>13.854048</td>\n",
       "      <td>4.933158</td>\n",
       "      <td>33NUF</td>\n",
       "    </tr>\n",
       "    <tr>\n",
       "      <th>1</th>\n",
       "      <td>30961_2</td>\n",
       "      <td>30961</td>\n",
       "      <td>2</td>\n",
       "      <td>treelossTF</td>\n",
       "      <td>2</td>\n",
       "      <td>33</td>\n",
       "      <td>372728.616472</td>\n",
       "      <td>5.425860e+05</td>\n",
       "      <td>372735</td>\n",
       "      <td>542595</td>\n",
       "      <td>13.852197</td>\n",
       "      <td>4.907920</td>\n",
       "      <td>33NUF</td>\n",
       "    </tr>\n",
       "    <tr>\n",
       "      <th>2</th>\n",
       "      <td>30961_3</td>\n",
       "      <td>30961</td>\n",
       "      <td>3</td>\n",
       "      <td>treelossTF</td>\n",
       "      <td>1</td>\n",
       "      <td>33</td>\n",
       "      <td>373846.916077</td>\n",
       "      <td>5.470932e+05</td>\n",
       "      <td>373845</td>\n",
       "      <td>547095</td>\n",
       "      <td>13.862138</td>\n",
       "      <td>4.948639</td>\n",
       "      <td>33NUF</td>\n",
       "    </tr>\n",
       "    <tr>\n",
       "      <th>3</th>\n",
       "      <td>30961_4</td>\n",
       "      <td>30961</td>\n",
       "      <td>4</td>\n",
       "      <td>treelossTF</td>\n",
       "      <td>4</td>\n",
       "      <td>33</td>\n",
       "      <td>371390.914129</td>\n",
       "      <td>5.460691e+05</td>\n",
       "      <td>371385</td>\n",
       "      <td>546075</td>\n",
       "      <td>13.839969</td>\n",
       "      <td>4.939375</td>\n",
       "      <td>33NUF</td>\n",
       "    </tr>\n",
       "    <tr>\n",
       "      <th>4</th>\n",
       "      <td>30961_5</td>\n",
       "      <td>30961</td>\n",
       "      <td>5</td>\n",
       "      <td>treelossTF</td>\n",
       "      <td>3</td>\n",
       "      <td>33</td>\n",
       "      <td>374504.487544</td>\n",
       "      <td>5.464576e+05</td>\n",
       "      <td>374505</td>\n",
       "      <td>546465</td>\n",
       "      <td>13.868099</td>\n",
       "      <td>4.942951</td>\n",
       "      <td>33NUF</td>\n",
       "    </tr>\n",
       "    <tr>\n",
       "      <th>...</th>\n",
       "      <td>...</td>\n",
       "      <td>...</td>\n",
       "      <td>...</td>\n",
       "      <td>...</td>\n",
       "      <td>...</td>\n",
       "      <td>...</td>\n",
       "      <td>...</td>\n",
       "      <td>...</td>\n",
       "      <td>...</td>\n",
       "      <td>...</td>\n",
       "      <td>...</td>\n",
       "      <td>...</td>\n",
       "      <td>...</td>\n",
       "    </tr>\n",
       "    <tr>\n",
       "      <th>1828</th>\n",
       "      <td>1473302_16</td>\n",
       "      <td>1473302</td>\n",
       "      <td>16</td>\n",
       "      <td>oldcrop_short</td>\n",
       "      <td>2</td>\n",
       "      <td>21</td>\n",
       "      <td>375509.165457</td>\n",
       "      <td>-4.203209e+06</td>\n",
       "      <td>375495</td>\n",
       "      <td>-4203195</td>\n",
       "      <td>-58.417441</td>\n",
       "      <td>-37.967845</td>\n",
       "      <td>21HUU</td>\n",
       "    </tr>\n",
       "    <tr>\n",
       "      <th>1829</th>\n",
       "      <td>1473302_17</td>\n",
       "      <td>1473302</td>\n",
       "      <td>17</td>\n",
       "      <td>oldcrop_short</td>\n",
       "      <td>2</td>\n",
       "      <td>21</td>\n",
       "      <td>378407.482557</td>\n",
       "      <td>-4.204245e+06</td>\n",
       "      <td>378405</td>\n",
       "      <td>-4204245</td>\n",
       "      <td>-58.384499</td>\n",
       "      <td>-37.977701</td>\n",
       "      <td>21HUU</td>\n",
       "    </tr>\n",
       "    <tr>\n",
       "      <th>1830</th>\n",
       "      <td>1473302_18</td>\n",
       "      <td>1473302</td>\n",
       "      <td>18</td>\n",
       "      <td>oldcrop_short</td>\n",
       "      <td>1</td>\n",
       "      <td>21</td>\n",
       "      <td>374961.521864</td>\n",
       "      <td>-4.197591e+06</td>\n",
       "      <td>374955</td>\n",
       "      <td>-4197585</td>\n",
       "      <td>-58.422612</td>\n",
       "      <td>-37.917224</td>\n",
       "      <td>21HUU</td>\n",
       "    </tr>\n",
       "    <tr>\n",
       "      <th>1831</th>\n",
       "      <td>1473302_19</td>\n",
       "      <td>1473302</td>\n",
       "      <td>19</td>\n",
       "      <td>oldcrop_short</td>\n",
       "      <td>4</td>\n",
       "      <td>21</td>\n",
       "      <td>380894.210195</td>\n",
       "      <td>-4.196291e+06</td>\n",
       "      <td>380895</td>\n",
       "      <td>-4196295</td>\n",
       "      <td>-58.354839</td>\n",
       "      <td>-37.906398</td>\n",
       "      <td>21HUU</td>\n",
       "    </tr>\n",
       "    <tr>\n",
       "      <th>1832</th>\n",
       "      <td>1473302_20</td>\n",
       "      <td>1473302</td>\n",
       "      <td>20</td>\n",
       "      <td>oldcrop_short</td>\n",
       "      <td>1</td>\n",
       "      <td>21</td>\n",
       "      <td>380125.237247</td>\n",
       "      <td>-4.195666e+06</td>\n",
       "      <td>380115</td>\n",
       "      <td>-4195665</td>\n",
       "      <td>-58.363604</td>\n",
       "      <td>-37.900619</td>\n",
       "      <td>21HUU</td>\n",
       "    </tr>\n",
       "  </tbody>\n",
       "</table>\n",
       "<p>1833 rows × 13 columns</p>\n",
       "</div>"
      ],
      "text/plain": [
       "              ID    Block  subID   blockStratum  substratum  zone  \\\n",
       "0        30961_1    30961      1     treelossTF           3    33   \n",
       "1        30961_2    30961      2     treelossTF           2    33   \n",
       "2        30961_3    30961      3     treelossTF           1    33   \n",
       "3        30961_4    30961      4     treelossTF           4    33   \n",
       "4        30961_5    30961      5     treelossTF           3    33   \n",
       "...          ...      ...    ...            ...         ...   ...   \n",
       "1828  1473302_16  1473302     16  oldcrop_short           2    21   \n",
       "1829  1473302_17  1473302     17  oldcrop_short           2    21   \n",
       "1830  1473302_18  1473302     18  oldcrop_short           1    21   \n",
       "1831  1473302_19  1473302     19  oldcrop_short           4    21   \n",
       "1832  1473302_20  1473302     20  oldcrop_short           1    21   \n",
       "\n",
       "                  x             y   centx    centy       long        lat  \\\n",
       "0     372932.570128  5.453950e+05  372945   545385  13.854048   4.933158   \n",
       "1     372728.616472  5.425860e+05  372735   542595  13.852197   4.907920   \n",
       "2     373846.916077  5.470932e+05  373845   547095  13.862138   4.948639   \n",
       "3     371390.914129  5.460691e+05  371385   546075  13.839969   4.939375   \n",
       "4     374504.487544  5.464576e+05  374505   546465  13.868099   4.942951   \n",
       "...             ...           ...     ...      ...        ...        ...   \n",
       "1828  375509.165457 -4.203209e+06  375495 -4203195 -58.417441 -37.967845   \n",
       "1829  378407.482557 -4.204245e+06  378405 -4204245 -58.384499 -37.977701   \n",
       "1830  374961.521864 -4.197591e+06  374955 -4197585 -58.422612 -37.917224   \n",
       "1831  380894.210195 -4.196291e+06  380895 -4196295 -58.354839 -37.906398   \n",
       "1832  380125.237247 -4.195666e+06  380115 -4195665 -58.363604 -37.900619   \n",
       "\n",
       "       MGRS  \n",
       "0     33NUF  \n",
       "1     33NUF  \n",
       "2     33NUF  \n",
       "3     33NUF  \n",
       "4     33NUF  \n",
       "...     ...  \n",
       "1828  21HUU  \n",
       "1829  21HUU  \n",
       "1830  21HUU  \n",
       "1831  21HUU  \n",
       "1832  21HUU  \n",
       "\n",
       "[1833 rows x 13 columns]"
      ]
     },
     "execution_count": 193,
     "metadata": {},
     "output_type": "execute_result"
    }
   ],
   "source": [
    "df_val = pd.read_csv('../tables/reference_data/selectedpointsLL.csv')\n",
    "df_val"
   ]
  },
  {
   "cell_type": "code",
   "execution_count": 192,
   "id": "8fb61627",
   "metadata": {
    "scrolled": true
   },
   "outputs": [
    {
     "data": {
      "text/plain": [
       "[{'ID': '424369_1',\n",
       "  'Block': 424369,\n",
       "  'subID': 1,\n",
       "  'blockStratum': 'gen',\n",
       "  'substratum': 3,\n",
       "  'zone': 45,\n",
       "  'x': 356510.126833696,\n",
       "  'y': 4899421.05117137,\n",
       "  'centx': 356505,\n",
       "  'centy': 4899435,\n",
       "  'long': 85.2031384396242,\n",
       "  'lat': 44.2340167490209,\n",
       "  'MGRS': '45TUK'},\n",
       " {'ID': '424369_2',\n",
       "  'Block': 424369,\n",
       "  'subID': 2,\n",
       "  'blockStratum': 'gen',\n",
       "  'substratum': 2,\n",
       "  'zone': 45,\n",
       "  'x': 356059.320173898,\n",
       "  'y': 4895201.37296425,\n",
       "  'centx': 356055,\n",
       "  'centy': 4895205,\n",
       "  'long': 85.1986673530614,\n",
       "  'lat': 44.1958634481137,\n",
       "  'MGRS': '45TUK'}]"
      ]
     },
     "execution_count": 192,
     "metadata": {},
     "output_type": "execute_result"
    }
   ],
   "source": [
    "df_val_mgrs = df_val[df_val['MGRS'] == MGRS_TILE_ID].reset_index(drop=True)\n",
    "sites_in_mgrs_tile = df_val_mgrs.to_dict(orient='records')\n",
    "sites_in_mgrs_tile[:2]"
   ]
  },
  {
   "cell_type": "code",
   "execution_count": 194,
   "id": "4d2e9511",
   "metadata": {},
   "outputs": [
    {
     "name": "stderr",
     "output_type": "stream",
     "text": [
      "Processing sites: 100%|█| 13/13 [00:01<00:00,  8\n"
     ]
    },
    {
     "data": {
      "text/html": [
       "<div>\n",
       "<style scoped>\n",
       "    .dataframe tbody tr th:only-of-type {\n",
       "        vertical-align: middle;\n",
       "    }\n",
       "\n",
       "    .dataframe tbody tr th {\n",
       "        vertical-align: top;\n",
       "    }\n",
       "\n",
       "    .dataframe thead th {\n",
       "        text-align: right;\n",
       "    }\n",
       "</style>\n",
       "<table border=\"1\" class=\"dataframe\">\n",
       "  <thead>\n",
       "    <tr style=\"text-align: right;\">\n",
       "      <th></th>\n",
       "      <th>site_id</th>\n",
       "      <th>date</th>\n",
       "      <th>labels</th>\n",
       "    </tr>\n",
       "  </thead>\n",
       "  <tbody>\n",
       "    <tr>\n",
       "      <th>0</th>\n",
       "      <td>424369_1</td>\n",
       "      <td>2024-01-06</td>\n",
       "      <td>0</td>\n",
       "    </tr>\n",
       "    <tr>\n",
       "      <th>1</th>\n",
       "      <td>424369_1</td>\n",
       "      <td>2024-01-11</td>\n",
       "      <td>0</td>\n",
       "    </tr>\n",
       "    <tr>\n",
       "      <th>2</th>\n",
       "      <td>424369_1</td>\n",
       "      <td>2024-01-18</td>\n",
       "      <td>0</td>\n",
       "    </tr>\n",
       "    <tr>\n",
       "      <th>3</th>\n",
       "      <td>424369_1</td>\n",
       "      <td>2024-01-23</td>\n",
       "      <td>0</td>\n",
       "    </tr>\n",
       "    <tr>\n",
       "      <th>4</th>\n",
       "      <td>424369_1</td>\n",
       "      <td>2024-01-30</td>\n",
       "      <td>0</td>\n",
       "    </tr>\n",
       "  </tbody>\n",
       "</table>\n",
       "</div>"
      ],
      "text/plain": [
       "    site_id        date  labels\n",
       "0  424369_1  2024-01-06       0\n",
       "1  424369_1  2024-01-11       0\n",
       "2  424369_1  2024-01-18       0\n",
       "3  424369_1  2024-01-23       0\n",
       "4  424369_1  2024-01-30       0"
      ]
     },
     "execution_count": 194,
     "metadata": {},
     "output_type": "execute_result"
    }
   ],
   "source": [
    "tables = []\n",
    "for site in tqdm(sites_in_mgrs_tile[:], desc='Processing sites'):\n",
    "    site_id = site['ID']\n",
    "    site_lon = site['long']\n",
    "    site_lat = site['lat'] \n",
    "\n",
    "    labels = [get_pixel_value(tif, site_lon, site_lat) for tif in mgrs_ts_status]\n",
    "\n",
    "    df_dist_s1_table_site = pd.DataFrame({\n",
    "        'site_id': [site_id] * len(labels),\n",
    "        'date': mgrs_ts_dates,\n",
    "        # 'longitude': [site_lon] * len(labels),\n",
    "        # 'latitude': [site_lat] * len(labels),\n",
    "        'labels': labels,\n",
    "    })\n",
    "    tables.append(df_dist_s1_table_site)\n",
    "\n",
    "tables[0].head()\n"
   ]
  },
  {
   "cell_type": "code",
   "execution_count": 195,
   "id": "40216c82",
   "metadata": {},
   "outputs": [],
   "source": [
    "for table in tables:\n",
    "    site_id = table['site_id'].tolist()[0]\n",
    "    block_id = site_id.split('_')[0]\n",
    "    table_dir = Path(f'dist_s1_label_tables/{block_id}')\n",
    "    table_dir.mkdir(exist_ok=True, parents=True)\n",
    "    table_path = table_dir / f'{site_id}.csv'\n",
    "    table.to_csv(table_path, index=False)\n"
   ]
  },
  {
   "cell_type": "markdown",
   "id": "7c1426e5",
   "metadata": {},
   "source": [
    "# Generate Site Vector Table"
   ]
  },
  {
   "cell_type": "code",
   "execution_count": 196,
   "id": "b00e69c2",
   "metadata": {},
   "outputs": [
    {
     "data": {
      "text/html": [
       "<div>\n",
       "<style scoped>\n",
       "    .dataframe tbody tr th:only-of-type {\n",
       "        vertical-align: middle;\n",
       "    }\n",
       "\n",
       "    .dataframe tbody tr th {\n",
       "        vertical-align: top;\n",
       "    }\n",
       "\n",
       "    .dataframe thead th {\n",
       "        text-align: right;\n",
       "    }\n",
       "</style>\n",
       "<table border=\"1\" class=\"dataframe\">\n",
       "  <thead>\n",
       "    <tr style=\"text-align: right;\">\n",
       "      <th></th>\n",
       "      <th>ID</th>\n",
       "      <th>geometry</th>\n",
       "    </tr>\n",
       "  </thead>\n",
       "  <tbody>\n",
       "    <tr>\n",
       "      <th>0</th>\n",
       "      <td>424369_1</td>\n",
       "      <td>POINT (85.20314 44.23402)</td>\n",
       "    </tr>\n",
       "    <tr>\n",
       "      <th>1</th>\n",
       "      <td>424369_2</td>\n",
       "      <td>POINT (85.19867 44.19586)</td>\n",
       "    </tr>\n",
       "    <tr>\n",
       "      <th>2</th>\n",
       "      <td>424369_3</td>\n",
       "      <td>POINT (85.19157 44.2071)</td>\n",
       "    </tr>\n",
       "    <tr>\n",
       "      <th>3</th>\n",
       "      <td>424369_4</td>\n",
       "      <td>POINT (85.15262 44.27588)</td>\n",
       "    </tr>\n",
       "    <tr>\n",
       "      <th>4</th>\n",
       "      <td>424369_5</td>\n",
       "      <td>POINT (85.19961 44.20182)</td>\n",
       "    </tr>\n",
       "  </tbody>\n",
       "</table>\n",
       "</div>"
      ],
      "text/plain": [
       "         ID                   geometry\n",
       "0  424369_1  POINT (85.20314 44.23402)\n",
       "1  424369_2  POINT (85.19867 44.19586)\n",
       "2  424369_3   POINT (85.19157 44.2071)\n",
       "3  424369_4  POINT (85.15262 44.27588)\n",
       "4  424369_5  POINT (85.19961 44.20182)"
      ]
     },
     "execution_count": 196,
     "metadata": {},
     "output_type": "execute_result"
    }
   ],
   "source": [
    "df_site_geo = gpd.GeoDataFrame(df_val_mgrs[['ID']],\n",
    "                               geometry=gpd.points_from_xy(df_val_mgrs.long, \n",
    "                                                           df_val_mgrs.lat), \n",
    "                               crs=CRS.from_epsg(4326))\n",
    "df_site_geo.head()\n"
   ]
  },
  {
   "cell_type": "code",
   "execution_count": 197,
   "id": "78406b47",
   "metadata": {},
   "outputs": [],
   "source": [
    "df_site_geo.to_file(table_dir / 'sites.geojson', driver='GeoJSON')"
   ]
  }
 ],
 "metadata": {
  "kernelspec": {
   "display_name": "dist-s1-val",
   "language": "python",
   "name": "dist-s1-val"
  },
  "language_info": {
   "codemirror_mode": {
    "name": "ipython",
    "version": 3
   },
   "file_extension": ".py",
   "mimetype": "text/x-python",
   "name": "python",
   "nbconvert_exporter": "python",
   "pygments_lexer": "ipython3",
   "version": "3.13.7"
  }
 },
 "nbformat": 4,
 "nbformat_minor": 5
}
