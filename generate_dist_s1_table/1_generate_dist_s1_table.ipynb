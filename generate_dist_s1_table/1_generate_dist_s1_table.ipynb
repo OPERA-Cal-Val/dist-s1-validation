{
 "cells": [
  {
   "cell_type": "code",
   "execution_count": 47,
   "id": "f17f1b8f",
   "metadata": {},
   "outputs": [],
   "source": [
    "import rasterio\n",
    "from rasterio.windows import Window\n",
    "from pathlib import Path\n",
    "from pyproj import Transformer\n",
    "import pandas as pd\n",
    "import geopandas as gpd\n",
    "from tqdm.auto import tqdm\n",
    "from rasterio.crs import CRS\n"
   ]
  },
  {
   "cell_type": "code",
   "execution_count": 15,
   "id": "2733f22e",
   "metadata": {},
   "outputs": [],
   "source": [
    "confirmed_products_dir = Path('confirmed_products')"
   ]
  },
  {
   "cell_type": "code",
   "execution_count": 3,
   "id": "0e52800b",
   "metadata": {},
   "outputs": [
    {
     "data": {
      "text/plain": [
       "['50NPL']"
      ]
     },
     "execution_count": 3,
     "metadata": {},
     "output_type": "execute_result"
    }
   ],
   "source": [
    "subdirs = list(confirmed_products_dir.glob('*/'))\n",
    "mgrs_tiles = [subdir.name for subdir in subdirs]\n",
    "mgrs_tiles[:3]"
   ]
  },
  {
   "cell_type": "code",
   "execution_count": 20,
   "id": "e0a744e9",
   "metadata": {},
   "outputs": [
    {
     "data": {
      "text/plain": [
       "'50NPL'"
      ]
     },
     "execution_count": 20,
     "metadata": {},
     "output_type": "execute_result"
    }
   ],
   "source": [
    "MGRS_TILE_ID = mgrs_tiles[0]\n",
    "MGRS_TILE_ID"
   ]
  },
  {
   "cell_type": "code",
   "execution_count": 33,
   "id": "71ad284c",
   "metadata": {},
   "outputs": [],
   "source": [
    "import rasterio\n",
    "from rasterio.windows import Window\n",
    "from pyproj import Transformer\n",
    "\n",
    "def get_pixel_value(tif, lon, lat):\n",
    "    with rasterio.open(tif) as src:\n",
    "        transformer = Transformer.from_crs(\"EPSG:4326\", src.crs, always_xy=True)\n",
    "        \n",
    "        x_utm, y_utm = transformer.transform(lon, lat)\n",
    "        \n",
    "        row, col = src.index(x_utm, y_utm)\n",
    "        \n",
    "        if row < 0 or row >= src.height or col < 0 or col >= src.width:\n",
    "            raise ValueError(\"Point is outside the bounds of the raster\")\n",
    "        \n",
    "        # Create window and read pixel value\n",
    "        window = Window(col, row, 1, 1)\n",
    "        val = src.read(1, window=window)[0, 0]\n",
    "    \n",
    "    return val"
   ]
  },
  {
   "cell_type": "code",
   "execution_count": null,
   "id": "6a98b783",
   "metadata": {},
   "outputs": [
    {
     "data": {
      "text/plain": [
       "[PosixPath('confirmed_products/50NPL/OPERA_L3_DIST-ALERT-S1_T50NPL_20240105T215803Z_20250910T164908Z_S1_30_v0.1'),\n",
       " PosixPath('confirmed_products/50NPL/OPERA_L3_DIST-ALERT-S1_T50NPL_20240112T214955Z_20250910T165629Z_S1_30_v0.1')]"
      ]
     },
     "execution_count": 6,
     "metadata": {},
     "output_type": "execute_result"
    }
   ],
   "source": [
    "mgrs_ts_dir = confirmed_products_dir / MGRS_TILE_ID\n",
    "mgrs_ts_prods = sorted(list(mgrs_ts_dir.glob('OPERA*/')))\n",
    "mgrs_ts_prods[:2]\n"
   ]
  },
  {
   "cell_type": "code",
   "execution_count": null,
   "id": "744729df",
   "metadata": {},
   "outputs": [
    {
     "data": {
      "text/plain": [
       "[PosixPath('confirmed_products/50NPL/OPERA_L3_DIST-ALERT-S1_T50NPL_20240105T215803Z_20250910T164908Z_S1_30_v0.1/OPERA_L3_DIST-ALERT-S1_T50NPL_20240105T215803Z_20250910T164908Z_S1_30_v0.1_GEN-DIST-STATUS.tif'),\n",
       " PosixPath('confirmed_products/50NPL/OPERA_L3_DIST-ALERT-S1_T50NPL_20240112T214955Z_20250910T165629Z_S1_30_v0.1/OPERA_L3_DIST-ALERT-S1_T50NPL_20240112T214955Z_20250910T165629Z_S1_30_v0.1_GEN-DIST-STATUS.tif')]"
      ]
     },
     "execution_count": 9,
     "metadata": {},
     "output_type": "execute_result"
    }
   ],
   "source": [
    "mgrs_ts_status = [prod_dir / f'{prod_dir.name}_GEN-DIST-STATUS.tif' for prod_dir in mgrs_ts_prods]\n",
    "mgrs_ts_status[:2]"
   ]
  },
  {
   "cell_type": "code",
   "execution_count": null,
   "id": "bec202fe",
   "metadata": {},
   "outputs": [
    {
     "data": {
      "text/plain": [
       "[datetime.date(2024, 1, 5), datetime.date(2024, 1, 12)]"
      ]
     },
     "execution_count": 22,
     "metadata": {},
     "output_type": "execute_result"
    }
   ],
   "source": [
    "mgrs_ts_dates = [pd.to_datetime(prod_dir.name.split('_')[4]).date() for prod_dir in mgrs_ts_prods]\n",
    "mgrs_ts_dates[:2]"
   ]
  },
  {
   "cell_type": "markdown",
   "id": "522e342d",
   "metadata": {},
   "source": [
    "# Dist Tables"
   ]
  },
  {
   "cell_type": "code",
   "execution_count": 18,
   "id": "4a0448fb",
   "metadata": {},
   "outputs": [
    {
     "data": {
      "text/html": [
       "<div>\n",
       "<style scoped>\n",
       "    .dataframe tbody tr th:only-of-type {\n",
       "        vertical-align: middle;\n",
       "    }\n",
       "\n",
       "    .dataframe tbody tr th {\n",
       "        vertical-align: top;\n",
       "    }\n",
       "\n",
       "    .dataframe thead th {\n",
       "        text-align: right;\n",
       "    }\n",
       "</style>\n",
       "<table border=\"1\" class=\"dataframe\">\n",
       "  <thead>\n",
       "    <tr style=\"text-align: right;\">\n",
       "      <th></th>\n",
       "      <th>ID</th>\n",
       "      <th>overallLabel</th>\n",
       "      <th>Long</th>\n",
       "      <th>Lat</th>\n",
       "      <th>changetype</th>\n",
       "      <th>MGRS</th>\n",
       "      <th>2024-01-01</th>\n",
       "      <th>2024-01-02</th>\n",
       "      <th>2024-01-03</th>\n",
       "      <th>2024-01-04</th>\n",
       "      <th>...</th>\n",
       "      <th>2024-12-23</th>\n",
       "      <th>2024-12-24</th>\n",
       "      <th>2024-12-25</th>\n",
       "      <th>2024-12-26</th>\n",
       "      <th>2024-12-27</th>\n",
       "      <th>2024-12-28</th>\n",
       "      <th>2024-12-29</th>\n",
       "      <th>2024-12-30</th>\n",
       "      <th>2024-12-31</th>\n",
       "      <th>2025-01-01</th>\n",
       "    </tr>\n",
       "  </thead>\n",
       "  <tbody>\n",
       "    <tr>\n",
       "      <th>0</th>\n",
       "      <td>34405_1</td>\n",
       "      <td>VLmaj</td>\n",
       "      <td>118.036706</td>\n",
       "      <td>5.357735</td>\n",
       "      <td>Plantation clearing</td>\n",
       "      <td>50NPL</td>\n",
       "      <td>noObs</td>\n",
       "      <td>noChange</td>\n",
       "      <td>noChange</td>\n",
       "      <td>noChange</td>\n",
       "      <td>...</td>\n",
       "      <td>noObs</td>\n",
       "      <td>noObs</td>\n",
       "      <td>noObs</td>\n",
       "      <td>noObs</td>\n",
       "      <td>noObs</td>\n",
       "      <td>noObs</td>\n",
       "      <td>noObs</td>\n",
       "      <td>noObs</td>\n",
       "      <td>noObs</td>\n",
       "      <td>noObs</td>\n",
       "    </tr>\n",
       "    <tr>\n",
       "      <th>1</th>\n",
       "      <td>34405_2</td>\n",
       "      <td>VLmaj</td>\n",
       "      <td>118.082496</td>\n",
       "      <td>5.378278</td>\n",
       "      <td>Plantation clearing</td>\n",
       "      <td>50NPL</td>\n",
       "      <td>noObs</td>\n",
       "      <td>noChange</td>\n",
       "      <td>noChange</td>\n",
       "      <td>noChange</td>\n",
       "      <td>...</td>\n",
       "      <td>VLsub</td>\n",
       "      <td>VLsub</td>\n",
       "      <td>VLsub</td>\n",
       "      <td>VLsub</td>\n",
       "      <td>VLsub</td>\n",
       "      <td>VLsub</td>\n",
       "      <td>VLsub</td>\n",
       "      <td>VLsub</td>\n",
       "      <td>noObs</td>\n",
       "      <td>noObs</td>\n",
       "    </tr>\n",
       "    <tr>\n",
       "      <th>2</th>\n",
       "      <td>34405_3</td>\n",
       "      <td>VLmaj</td>\n",
       "      <td>118.024016</td>\n",
       "      <td>5.378379</td>\n",
       "      <td>Plantation clearing</td>\n",
       "      <td>50NPL</td>\n",
       "      <td>noObs</td>\n",
       "      <td>noChange</td>\n",
       "      <td>noChange</td>\n",
       "      <td>noChange</td>\n",
       "      <td>...</td>\n",
       "      <td>noObs</td>\n",
       "      <td>noObs</td>\n",
       "      <td>noObs</td>\n",
       "      <td>noObs</td>\n",
       "      <td>noObs</td>\n",
       "      <td>noObs</td>\n",
       "      <td>noObs</td>\n",
       "      <td>noObs</td>\n",
       "      <td>noObs</td>\n",
       "      <td>noObs</td>\n",
       "    </tr>\n",
       "    <tr>\n",
       "      <th>3</th>\n",
       "      <td>34405_4</td>\n",
       "      <td>VLmaj</td>\n",
       "      <td>118.032355</td>\n",
       "      <td>5.346074</td>\n",
       "      <td>Plantation clearing</td>\n",
       "      <td>50NPL</td>\n",
       "      <td>noObs</td>\n",
       "      <td>noChange</td>\n",
       "      <td>noChange</td>\n",
       "      <td>noChange</td>\n",
       "      <td>...</td>\n",
       "      <td>noObs</td>\n",
       "      <td>noObs</td>\n",
       "      <td>noObs</td>\n",
       "      <td>noObs</td>\n",
       "      <td>noObs</td>\n",
       "      <td>noObs</td>\n",
       "      <td>noObs</td>\n",
       "      <td>noObs</td>\n",
       "      <td>noObs</td>\n",
       "      <td>noObs</td>\n",
       "    </tr>\n",
       "    <tr>\n",
       "      <th>4</th>\n",
       "      <td>34405_5</td>\n",
       "      <td>VLmaj</td>\n",
       "      <td>118.077235</td>\n",
       "      <td>5.311264</td>\n",
       "      <td>Plantation clearing</td>\n",
       "      <td>50NPL</td>\n",
       "      <td>noObs</td>\n",
       "      <td>noObs</td>\n",
       "      <td>noObs</td>\n",
       "      <td>noObs</td>\n",
       "      <td>...</td>\n",
       "      <td>noChange</td>\n",
       "      <td>noChange</td>\n",
       "      <td>noChange</td>\n",
       "      <td>noChange</td>\n",
       "      <td>noChange</td>\n",
       "      <td>noChange</td>\n",
       "      <td>noChange</td>\n",
       "      <td>noChange</td>\n",
       "      <td>noObs</td>\n",
       "      <td>noObs</td>\n",
       "    </tr>\n",
       "  </tbody>\n",
       "</table>\n",
       "<p>5 rows × 373 columns</p>\n",
       "</div>"
      ],
      "text/plain": [
       "        ID overallLabel        Long       Lat           changetype   MGRS  \\\n",
       "0  34405_1        VLmaj  118.036706  5.357735  Plantation clearing  50NPL   \n",
       "1  34405_2        VLmaj  118.082496  5.378278  Plantation clearing  50NPL   \n",
       "2  34405_3        VLmaj  118.024016  5.378379  Plantation clearing  50NPL   \n",
       "3  34405_4        VLmaj  118.032355  5.346074  Plantation clearing  50NPL   \n",
       "4  34405_5        VLmaj  118.077235  5.311264  Plantation clearing  50NPL   \n",
       "\n",
       "  2024-01-01 2024-01-02 2024-01-03 2024-01-04  ... 2024-12-23 2024-12-24  \\\n",
       "0      noObs   noChange   noChange   noChange  ...      noObs      noObs   \n",
       "1      noObs   noChange   noChange   noChange  ...      VLsub      VLsub   \n",
       "2      noObs   noChange   noChange   noChange  ...      noObs      noObs   \n",
       "3      noObs   noChange   noChange   noChange  ...      noObs      noObs   \n",
       "4      noObs      noObs      noObs      noObs  ...   noChange   noChange   \n",
       "\n",
       "  2024-12-25 2024-12-26 2024-12-27 2024-12-28 2024-12-29 2024-12-30  \\\n",
       "0      noObs      noObs      noObs      noObs      noObs      noObs   \n",
       "1      VLsub      VLsub      VLsub      VLsub      VLsub      VLsub   \n",
       "2      noObs      noObs      noObs      noObs      noObs      noObs   \n",
       "3      noObs      noObs      noObs      noObs      noObs      noObs   \n",
       "4   noChange   noChange   noChange   noChange   noChange   noChange   \n",
       "\n",
       "  2024-12-31 2025-01-01  \n",
       "0      noObs      noObs  \n",
       "1      noObs      noObs  \n",
       "2      noObs      noObs  \n",
       "3      noObs      noObs  \n",
       "4      noObs      noObs  \n",
       "\n",
       "[5 rows x 373 columns]"
      ]
     },
     "execution_count": 18,
     "metadata": {},
     "output_type": "execute_result"
    }
   ],
   "source": [
    "df_val = pd.read_csv('../tables/reference_data/referenceTimeSeriesInterpolated16_16_goodFirst.csv')\n",
    "df_val.head()"
   ]
  },
  {
   "cell_type": "code",
   "execution_count": 26,
   "id": "8fb61627",
   "metadata": {},
   "outputs": [],
   "source": [
    "df_val_mgrs = df_val[df_val['MGRS'] == MGRS_TILE_ID].reset_index(drop=True)\n",
    "sites_in_mgrs_tile = df_val_mgrs.to_dict(orient='records')"
   ]
  },
  {
   "cell_type": "code",
   "execution_count": null,
   "id": "4d2e9511",
   "metadata": {},
   "outputs": [
    {
     "name": "stderr",
     "output_type": "stream",
     "text": [
      "Processing sites: 100%|██████████| 20/20 [00:02<00:00,  8.90it/s]\n"
     ]
    },
    {
     "data": {
      "text/html": [
       "<div>\n",
       "<style scoped>\n",
       "    .dataframe tbody tr th:only-of-type {\n",
       "        vertical-align: middle;\n",
       "    }\n",
       "\n",
       "    .dataframe tbody tr th {\n",
       "        vertical-align: top;\n",
       "    }\n",
       "\n",
       "    .dataframe thead th {\n",
       "        text-align: right;\n",
       "    }\n",
       "</style>\n",
       "<table border=\"1\" class=\"dataframe\">\n",
       "  <thead>\n",
       "    <tr style=\"text-align: right;\">\n",
       "      <th></th>\n",
       "      <th>site_id</th>\n",
       "      <th>date</th>\n",
       "      <th>labels</th>\n",
       "    </tr>\n",
       "  </thead>\n",
       "  <tbody>\n",
       "    <tr>\n",
       "      <th>0</th>\n",
       "      <td>34405_1</td>\n",
       "      <td>2024-01-05</td>\n",
       "      <td>0</td>\n",
       "    </tr>\n",
       "    <tr>\n",
       "      <th>1</th>\n",
       "      <td>34405_1</td>\n",
       "      <td>2024-01-12</td>\n",
       "      <td>0</td>\n",
       "    </tr>\n",
       "    <tr>\n",
       "      <th>2</th>\n",
       "      <td>34405_1</td>\n",
       "      <td>2024-01-17</td>\n",
       "      <td>0</td>\n",
       "    </tr>\n",
       "    <tr>\n",
       "      <th>3</th>\n",
       "      <td>34405_1</td>\n",
       "      <td>2024-01-24</td>\n",
       "      <td>0</td>\n",
       "    </tr>\n",
       "    <tr>\n",
       "      <th>4</th>\n",
       "      <td>34405_1</td>\n",
       "      <td>2024-01-29</td>\n",
       "      <td>0</td>\n",
       "    </tr>\n",
       "  </tbody>\n",
       "</table>\n",
       "</div>"
      ],
      "text/plain": [
       "   site_id        date  labels\n",
       "0  34405_1  2024-01-05       0\n",
       "1  34405_1  2024-01-12       0\n",
       "2  34405_1  2024-01-17       0\n",
       "3  34405_1  2024-01-24       0\n",
       "4  34405_1  2024-01-29       0"
      ]
     },
     "execution_count": 40,
     "metadata": {},
     "output_type": "execute_result"
    }
   ],
   "source": [
    "tables = []\n",
    "for site in tqdm(sites_in_mgrs_tile, desc='Processing sites'):\n",
    "    site_id = site['ID']\n",
    "    site_lon = site['Long']\n",
    "    site_lat = site['Lat'] \n",
    "\n",
    "    labels = [get_pixel_value(tif, site_lon, site_lat) for tif in mgrs_ts_status]\n",
    "\n",
    "    df_dist_s1_table_site = pd.DataFrame({\n",
    "        'site_id': [site_id] * len(labels),\n",
    "        'date': mgrs_ts_dates,\n",
    "        # 'longitude': [site_lon] * len(labels),\n",
    "        # 'latitude': [site_lat] * len(labels),\n",
    "        'labels': labels,\n",
    "    })\n",
    "    tables.append(df_dist_s1_table_site)\n",
    "\n",
    "tables[0].head()\n"
   ]
  },
  {
   "cell_type": "code",
   "execution_count": 43,
   "id": "40216c82",
   "metadata": {},
   "outputs": [],
   "source": [
    "table_dir = Path(f'dist_s1_label_tables/{MGRS_TILE_ID}')\n",
    "table_dir.mkdir(exist_ok=True, parents=True)\n",
    "for table in tables:\n",
    "    site_id = table['site_id'].tolist()[0]\n",
    "    table_path = table_dir / f'{site_id}.csv'\n",
    "    table.to_csv(table_path, index=False)\n"
   ]
  },
  {
   "cell_type": "markdown",
   "id": "7c1426e5",
   "metadata": {},
   "source": [
    "# Generate Site Vector Table"
   ]
  },
  {
   "cell_type": "code",
   "execution_count": 53,
   "id": "b00e69c2",
   "metadata": {},
   "outputs": [
    {
     "data": {
      "text/html": [
       "<div>\n",
       "<style scoped>\n",
       "    .dataframe tbody tr th:only-of-type {\n",
       "        vertical-align: middle;\n",
       "    }\n",
       "\n",
       "    .dataframe tbody tr th {\n",
       "        vertical-align: top;\n",
       "    }\n",
       "\n",
       "    .dataframe thead th {\n",
       "        text-align: right;\n",
       "    }\n",
       "</style>\n",
       "<table border=\"1\" class=\"dataframe\">\n",
       "  <thead>\n",
       "    <tr style=\"text-align: right;\">\n",
       "      <th></th>\n",
       "      <th>ID</th>\n",
       "      <th>geometry</th>\n",
       "    </tr>\n",
       "  </thead>\n",
       "  <tbody>\n",
       "    <tr>\n",
       "      <th>0</th>\n",
       "      <td>34405_1</td>\n",
       "      <td>POINT (118.03671 5.35773)</td>\n",
       "    </tr>\n",
       "    <tr>\n",
       "      <th>1</th>\n",
       "      <td>34405_2</td>\n",
       "      <td>POINT (118.0825 5.37828)</td>\n",
       "    </tr>\n",
       "    <tr>\n",
       "      <th>2</th>\n",
       "      <td>34405_3</td>\n",
       "      <td>POINT (118.02402 5.37838)</td>\n",
       "    </tr>\n",
       "    <tr>\n",
       "      <th>3</th>\n",
       "      <td>34405_4</td>\n",
       "      <td>POINT (118.03235 5.34607)</td>\n",
       "    </tr>\n",
       "    <tr>\n",
       "      <th>4</th>\n",
       "      <td>34405_5</td>\n",
       "      <td>POINT (118.07723 5.31126)</td>\n",
       "    </tr>\n",
       "  </tbody>\n",
       "</table>\n",
       "</div>"
      ],
      "text/plain": [
       "        ID                   geometry\n",
       "0  34405_1  POINT (118.03671 5.35773)\n",
       "1  34405_2   POINT (118.0825 5.37828)\n",
       "2  34405_3  POINT (118.02402 5.37838)\n",
       "3  34405_4  POINT (118.03235 5.34607)\n",
       "4  34405_5  POINT (118.07723 5.31126)"
      ]
     },
     "execution_count": 53,
     "metadata": {},
     "output_type": "execute_result"
    }
   ],
   "source": [
    "df_site_geo = gpd.GeoDataFrame(df_val_mgrs[['ID']],\n",
    "                               geometry=gpd.points_from_xy(df_val_mgrs.Long, \n",
    "                                                           df_val_mgrs.Lat), \n",
    "                               crs=CRS.from_epsg(4326))\n",
    "df_site_geo.head()\n"
   ]
  },
  {
   "cell_type": "code",
   "execution_count": 54,
   "id": "78406b47",
   "metadata": {},
   "outputs": [],
   "source": [
    "\n",
    "df_site_geo.to_file(table_dir / 'sites.geojson', driver='GeoJSON')\n",
    "\n"
   ]
  },
  {
   "cell_type": "code",
   "execution_count": null,
   "id": "c17d6ff2",
   "metadata": {},
   "outputs": [],
   "source": []
  }
 ],
 "metadata": {
  "kernelspec": {
   "display_name": "dist-s1-val",
   "language": "python",
   "name": "dist-s1-val"
  },
  "language_info": {
   "codemirror_mode": {
    "name": "ipython",
    "version": 3
   },
   "file_extension": ".py",
   "mimetype": "text/x-python",
   "name": "python",
   "nbconvert_exporter": "python",
   "pygments_lexer": "ipython3",
   "version": "3.13.7"
  }
 },
 "nbformat": 4,
 "nbformat_minor": 5
}
