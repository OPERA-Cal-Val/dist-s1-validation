{
 "cells": [
  {
   "cell_type": "code",
   "execution_count": 1,
   "id": "f225a638-4ec1-4328-b717-19e6cb8f6b23",
   "metadata": {},
   "outputs": [],
   "source": [
    "from pathlib import Path\n",
    "import pandas as pd"
   ]
  },
  {
   "cell_type": "code",
   "execution_count": 2,
   "id": "fc9dcd7e-193b-4304-947e-786e0a971742",
   "metadata": {},
   "outputs": [
    {
     "data": {
      "text/plain": [
       "[PosixPath('dist_hls/10TDT'),\n",
       " PosixPath('dist_hls/11TLH'),\n",
       " PosixPath('dist_hls/12STA')]"
      ]
     },
     "execution_count": 2,
     "metadata": {},
     "output_type": "execute_result"
    }
   ],
   "source": [
    "mgrs_tile_dirs = sorted(list(Path('dist_hls').glob('*/')))\n",
    "mgrs_tile_dirs[:3]"
   ]
  },
  {
   "cell_type": "code",
   "execution_count": 3,
   "id": "79c0a704-0786-400d-ae2f-2261c8fdf237",
   "metadata": {},
   "outputs": [
    {
     "data": {
      "text/plain": [
       "['10TDT', '11TLH', '12STA']"
      ]
     },
     "execution_count": 3,
     "metadata": {},
     "output_type": "execute_result"
    }
   ],
   "source": [
    "hls_mgrs_tile_ids = [d.name for d in mgrs_tile_dirs]\n",
    "hls_mgrs_tile_ids[:3]"
   ]
  },
  {
   "cell_type": "markdown",
   "id": "30243c93-f54c-4262-afc9-ff9237dfa561",
   "metadata": {},
   "source": [
    "# DIST_HLS"
   ]
  },
  {
   "cell_type": "code",
   "execution_count": 4,
   "id": "516422eb-3e0f-40cf-8064-ef282131032c",
   "metadata": {},
   "outputs": [
    {
     "data": {
      "text/plain": [
       "([PosixPath('dist_hls/10TDT/OPERA_L3_DIST-ALERT-HLS_T10TDT_20250101T190811Z_20250103T014021Z_S2A_30_v1'),\n",
       "  PosixPath('dist_hls/11TLH/OPERA_L3_DIST-ALERT-HLS_T11TLH_20241231T184709Z_20250102T075958Z_S2B_30_v1'),\n",
       "  PosixPath('dist_hls/12STA/OPERA_L3_DIST-ALERT-HLS_T12STA_20250101T181649Z_20250103T015018Z_S2B_30_v1')],\n",
       " 85)"
      ]
     },
     "execution_count": 4,
     "metadata": {},
     "output_type": "execute_result"
    }
   ],
   "source": [
    "dist_hls_product_dirs = [list(d.glob('*/'))[0] for d in mgrs_tile_dirs]\n",
    "dist_hls_product_dirs[:3], len(dist_hls_product_dirs)"
   ]
  },
  {
   "cell_type": "code",
   "execution_count": 5,
   "id": "53537722-7efe-44ca-b05c-16be8593d7d9",
   "metadata": {},
   "outputs": [
    {
     "data": {
      "text/plain": [
       "True"
      ]
     },
     "execution_count": 5,
     "metadata": {},
     "output_type": "execute_result"
    }
   ],
   "source": [
    "dist_hls_gen_status_paths = [p / f'{p.name}_GEN-DIST-STATUS.tif' for p in dist_hls_product_dirs]\n",
    "dist_hls_gen_status_paths[0].exists()"
   ]
  },
  {
   "cell_type": "code",
   "execution_count": 6,
   "id": "454d8397-9e02-4c23-8254-d67caf18ee00",
   "metadata": {},
   "outputs": [
    {
     "data": {
      "text/plain": [
       "True"
      ]
     },
     "execution_count": 6,
     "metadata": {},
     "output_type": "execute_result"
    }
   ],
   "source": [
    "dist_hls_veg_status_paths = [p / f'{p.name}_VEG-DIST-STATUS.tif' for p in dist_hls_product_dirs]\n",
    "dist_hls_veg_status_paths[0].exists()"
   ]
  },
  {
   "cell_type": "markdown",
   "id": "2afed2da-679f-458c-8703-6af224752cf3",
   "metadata": {},
   "source": [
    "# DIST_S1\n"
   ]
  },
  {
   "cell_type": "code",
   "execution_count": 7,
   "id": "99e1edcd-7f22-498f-8e2b-b2851bd851cf",
   "metadata": {},
   "outputs": [
    {
     "data": {
      "text/plain": [
       "[PosixPath('confirmed_products/10TDT/OPERA_L3_DIST-ALERT-S1_T10TDT_20241226T021039Z_20251001T072555Z_S1_30_v0.1'),\n",
       " PosixPath('confirmed_products/11TLH/OPERA_L3_DIST-ALERT-S1_T11TLH_20241228T015257Z_20251001T120726Z_S1_30_v0.1'),\n",
       " PosixPath('confirmed_products/12STA/OPERA_L3_DIST-ALERT-S1_T12STA_20241230T133650Z_20251001T010913Z_S1_30_v0.1')]"
      ]
     },
     "execution_count": 7,
     "metadata": {},
     "output_type": "execute_result"
    }
   ],
   "source": [
    "dist_s1_mgrs_dirs = sorted(list(Path('confirmed_products').glob('*/')))\n",
    "dist_s1_product_dirs = [sorted(list(d.glob('*/')))[-1] for d in dist_s1_mgrs_dirs]\n",
    "dist_s1_product_dirs[:3]"
   ]
  },
  {
   "cell_type": "code",
   "execution_count": 8,
   "id": "ce555ad1-d3d3-449b-8d03-26807d66a802",
   "metadata": {},
   "outputs": [
    {
     "data": {
      "text/plain": [
       "True"
      ]
     },
     "execution_count": 8,
     "metadata": {},
     "output_type": "execute_result"
    }
   ],
   "source": [
    "dist_s1_gen_status_paths = [p / f'{p.name}_GEN-DIST-STATUS.tif' for p in dist_s1_product_dirs]\n",
    "dist_s1_gen_status_paths[0].exists()"
   ]
  },
  {
   "cell_type": "markdown",
   "id": "9acfc93b-0709-4211-9e15-75de08863999",
   "metadata": {},
   "source": [
    "# Organizing"
   ]
  },
  {
   "cell_type": "code",
   "execution_count": 9,
   "id": "243f1ba7-f56c-48b8-9dda-b72942fc24cb",
   "metadata": {},
   "outputs": [
    {
     "data": {
      "text/plain": [
       "['10TDT',\n",
       " '11TLH',\n",
       " '12STA',\n",
       " '12UUD',\n",
       " '13RCK',\n",
       " '14RNU',\n",
       " '14SPH',\n",
       " '16SBF',\n",
       " '17MPT',\n",
       " '17SQT',\n",
       " '17TPG',\n",
       " '17UPT',\n",
       " '19NBD',\n",
       " '19PFK',\n",
       " '19TBG',\n",
       " '20HMD',\n",
       " '20HMJ',\n",
       " '20KNG',\n",
       " '20KPF',\n",
       " '20LMM',\n",
       " '20LNJ',\n",
       " '20LQL',\n",
       " '20MMA',\n",
       " '20TLP',\n",
       " '21HUC',\n",
       " '21HUU',\n",
       " '21JTF',\n",
       " '21JVJ',\n",
       " '21LWC',\n",
       " '21MVS',\n",
       " '22KFA',\n",
       " '22LDQ',\n",
       " '22LDR',\n",
       " '22LEQ',\n",
       " '22MDT',\n",
       " '22MGB',\n",
       " '28PHR',\n",
       " '29SPC',\n",
       " '30SUD',\n",
       " '30SXB',\n",
       " '31PGN',\n",
       " '31UCQ',\n",
       " '32VMQ',\n",
       " '33MXS',\n",
       " '33NUF',\n",
       " '33PUR',\n",
       " '33QTU',\n",
       " '35MRM',\n",
       " '35UNR',\n",
       " '35VLF',\n",
       " '36NUN',\n",
       " '36PVR',\n",
       " '36RTS',\n",
       " '36UXA',\n",
       " '37NEG',\n",
       " '37VDH',\n",
       " '38KNB',\n",
       " '38RMN',\n",
       " '38ULE',\n",
       " '40SFC',\n",
       " '41UPB',\n",
       " '43QDD',\n",
       " '43QEU',\n",
       " '43QFE',\n",
       " '44PKB',\n",
       " '44QKM',\n",
       " '45TUK',\n",
       " '47NRG',\n",
       " '47TNH',\n",
       " '48MUD',\n",
       " '48RWV',\n",
       " '49RGN',\n",
       " '50KNB',\n",
       " '50NPL',\n",
       " '50SLJ',\n",
       " '50SMF',\n",
       " '51KVV',\n",
       " '52TDP',\n",
       " '52UCF',\n",
       " '52VCH',\n",
       " '53KKU',\n",
       " '53KQV',\n",
       " '53LKC',\n",
       " '54HXH',\n",
       " '60HTF']"
      ]
     },
     "execution_count": 9,
     "metadata": {},
     "output_type": "execute_result"
    }
   ],
   "source": [
    "[d.name for d in dist_s1_mgrs_dirs]"
   ]
  },
  {
   "cell_type": "code",
   "execution_count": 10,
   "id": "cb5595c3-4f65-451e-81ec-d53afe970511",
   "metadata": {},
   "outputs": [
    {
     "data": {
      "text/plain": [
       "85"
      ]
     },
     "execution_count": 10,
     "metadata": {},
     "output_type": "execute_result"
    }
   ],
   "source": [
    "len(set([d.name for d in dist_s1_mgrs_dirs]))"
   ]
  },
  {
   "cell_type": "code",
   "execution_count": 11,
   "id": "fbffa3f9-2e6d-4133-9f40-7601fa00d922",
   "metadata": {},
   "outputs": [
    {
     "data": {
      "text/plain": [
       "85"
      ]
     },
     "execution_count": 11,
     "metadata": {},
     "output_type": "execute_result"
    }
   ],
   "source": [
    "len(set(hls_mgrs_tile_ids))"
   ]
  },
  {
   "cell_type": "code",
   "execution_count": 12,
   "id": "4613fed7-ad03-4e80-b1e1-c9cb23853cc1",
   "metadata": {},
   "outputs": [
    {
     "data": {
      "text/plain": [
       "['50SMF',\n",
       " '20MMA',\n",
       " '33MXS',\n",
       " '20KPF',\n",
       " '43QFE',\n",
       " '43QEU',\n",
       " '17TPG',\n",
       " '22MGB',\n",
       " '20TLP',\n",
       " '48MUD',\n",
       " '22LDQ',\n",
       " '19TBG',\n",
       " '50SLJ',\n",
       " '22LEQ',\n",
       " '17MPT',\n",
       " '53KKU',\n",
       " '14RNU',\n",
       " '12STA',\n",
       " '22KFA',\n",
       " '60HTF',\n",
       " '43QDD',\n",
       " '52VCH',\n",
       " '35MRM',\n",
       " '36UXA',\n",
       " '38RMN',\n",
       " '53LKC',\n",
       " '12UUD',\n",
       " '20KNG',\n",
       " '47TNH',\n",
       " '52UCF',\n",
       " '53KQV',\n",
       " '20LQL',\n",
       " '30SUD',\n",
       " '21JVJ',\n",
       " '37VDH',\n",
       " '29SPC',\n",
       " '30SXB',\n",
       " '31UCQ',\n",
       " '21HUC',\n",
       " '51KVV',\n",
       " '38ULE',\n",
       " '44QKM',\n",
       " '36NUN',\n",
       " '44PKB',\n",
       " '50NPL',\n",
       " '19NBD',\n",
       " '20HMD',\n",
       " '19PFK',\n",
       " '48RWV',\n",
       " '10TDT',\n",
       " '49RGN',\n",
       " '21JTF',\n",
       " '45TUK',\n",
       " '20HMJ',\n",
       " '52TDP',\n",
       " '21MVS',\n",
       " '21LWC',\n",
       " '47NRG',\n",
       " '21HUU',\n",
       " '13RCK',\n",
       " '33QTU',\n",
       " '38KNB',\n",
       " '40SFC',\n",
       " '41UPB',\n",
       " '32VMQ',\n",
       " '16SBF',\n",
       " '17SQT',\n",
       " '36RTS',\n",
       " '20LNJ',\n",
       " '33NUF',\n",
       " '36PVR',\n",
       " '31PGN',\n",
       " '17UPT',\n",
       " '28PHR',\n",
       " '35VLF',\n",
       " '11TLH',\n",
       " '35UNR',\n",
       " '33PUR',\n",
       " '20LMM',\n",
       " '22MDT',\n",
       " '37NEG',\n",
       " '54HXH',\n",
       " '14SPH',\n",
       " '22LDR',\n",
       " '50KNB']"
      ]
     },
     "execution_count": 12,
     "metadata": {},
     "output_type": "execute_result"
    }
   ],
   "source": [
    "all_mgrs_tile_ids = list(set([d.name for d in dist_s1_mgrs_dirs]) & set(hls_mgrs_tile_ids))\n",
    "all_mgrs_tile_ids"
   ]
  },
  {
   "cell_type": "code",
   "execution_count": 13,
   "id": "fa34ebf7-90b4-4aca-bb1a-0f5bc9aac861",
   "metadata": {},
   "outputs": [],
   "source": [
    "path_dict_organized = {}\n",
    "for m_id in all_mgrs_tile_ids:\n",
    "    path_dict_organized[m_id]= ([p for p in dist_s1_gen_status_paths if p.name.split('_')[3][1:] == m_id][0],\n",
    "            [p for p in dist_hls_gen_status_paths if p.name.split('_')[3][1:] == m_id][0],\n",
    "            [p for p in dist_hls_veg_status_paths if p.name.split('_')[3][1:] == m_id][0]\n",
    "           )"
   ]
  },
  {
   "cell_type": "code",
   "execution_count": 14,
   "id": "a2b723da-d811-4962-a5d5-dbc86175abe8",
   "metadata": {},
   "outputs": [
    {
     "data": {
      "text/plain": [
       "(dict_keys(['50SMF', '20MMA', '33MXS', '20KPF', '43QFE', '43QEU', '17TPG', '22MGB', '20TLP', '48MUD', '22LDQ', '19TBG', '50SLJ', '22LEQ', '17MPT', '53KKU', '14RNU', '12STA', '22KFA', '60HTF', '43QDD', '52VCH', '35MRM', '36UXA', '38RMN', '53LKC', '12UUD', '20KNG', '47TNH', '52UCF', '53KQV', '20LQL', '30SUD', '21JVJ', '37VDH', '29SPC', '30SXB', '31UCQ', '21HUC', '51KVV', '38ULE', '44QKM', '36NUN', '44PKB', '50NPL', '19NBD', '20HMD', '19PFK', '48RWV', '10TDT', '49RGN', '21JTF', '45TUK', '20HMJ', '52TDP', '21MVS', '21LWC', '47NRG', '21HUU', '13RCK', '33QTU', '38KNB', '40SFC', '41UPB', '32VMQ', '16SBF', '17SQT', '36RTS', '20LNJ', '33NUF', '36PVR', '31PGN', '17UPT', '28PHR', '35VLF', '11TLH', '35UNR', '33PUR', '20LMM', '22MDT', '37NEG', '54HXH', '14SPH', '22LDR', '50KNB']),\n",
       " 85)"
      ]
     },
     "execution_count": 14,
     "metadata": {},
     "output_type": "execute_result"
    }
   ],
   "source": [
    "path_dict_organized.keys(), len(path_dict_organized)"
   ]
  },
  {
   "cell_type": "code",
   "execution_count": 15,
   "id": "7974ae10-5f04-4841-b1e6-b2f7236dd7ab",
   "metadata": {},
   "outputs": [
    {
     "data": {
      "text/plain": [
       "[{'mgrs_tile_id': '50SMF',\n",
       "  'dist_s1_gen_status': PosixPath('confirmed_products/50SMF/OPERA_L3_DIST-ALERT-S1_T50SMF_20241228T100508Z_20251001T115021Z_S1_30_v0.1/OPERA_L3_DIST-ALERT-S1_T50SMF_20241228T100508Z_20251001T115021Z_S1_30_v0.1_GEN-DIST-STATUS.tif'),\n",
       "  'dist_hls_veg_status': PosixPath('dist_hls/50SMF/OPERA_L3_DIST-ALERT-HLS_T50SMF_20250101T031029Z_20250103T023227Z_S2B_30_v1/OPERA_L3_DIST-ALERT-HLS_T50SMF_20250101T031029Z_20250103T023227Z_S2B_30_v1_VEG-DIST-STATUS.tif'),\n",
       "  'dist_hls_gen_status': PosixPath('dist_hls/50SMF/OPERA_L3_DIST-ALERT-HLS_T50SMF_20250101T031029Z_20250103T023227Z_S2B_30_v1/OPERA_L3_DIST-ALERT-HLS_T50SMF_20250101T031029Z_20250103T023227Z_S2B_30_v1_GEN-DIST-STATUS.tif')},\n",
       " {'mgrs_tile_id': '20MMA',\n",
       "  'dist_s1_gen_status': PosixPath('confirmed_products/20MMA/OPERA_L3_DIST-ALERT-S1_T20MMA_20241229T094818Z_20251001T123258Z_S1_30_v0.1/OPERA_L3_DIST-ALERT-S1_T20MMA_20241229T094818Z_20251001T123258Z_S1_30_v0.1_GEN-DIST-STATUS.tif'),\n",
       "  'dist_hls_veg_status': PosixPath('dist_hls/20MMA/OPERA_L3_DIST-ALERT-HLS_T20MMA_20241231T141934Z_20250102T093330Z_L8_30_v1/OPERA_L3_DIST-ALERT-HLS_T20MMA_20241231T141934Z_20250102T093330Z_L8_30_v1_VEG-DIST-STATUS.tif'),\n",
       "  'dist_hls_gen_status': PosixPath('dist_hls/20MMA/OPERA_L3_DIST-ALERT-HLS_T20MMA_20241231T141934Z_20250102T093330Z_L8_30_v1/OPERA_L3_DIST-ALERT-HLS_T20MMA_20241231T141934Z_20250102T093330Z_L8_30_v1_GEN-DIST-STATUS.tif')},\n",
       " {'mgrs_tile_id': '33MXS',\n",
       "  'dist_s1_gen_status': PosixPath('confirmed_products/33MXS/OPERA_L3_DIST-ALERT-S1_T33MXS_20241219T043517Z_20251001T071315Z_S1_30_v0.1/OPERA_L3_DIST-ALERT-S1_T33MXS_20241219T043517Z_20251001T071315Z_S1_30_v0.1_GEN-DIST-STATUS.tif'),\n",
       "  'dist_hls_veg_status': PosixPath('dist_hls/33MXS/OPERA_L3_DIST-ALERT-HLS_T33MXS_20250101T090401Z_20250103T040215Z_S2A_30_v1/OPERA_L3_DIST-ALERT-HLS_T33MXS_20250101T090401Z_20250103T040215Z_S2A_30_v1_VEG-DIST-STATUS.tif'),\n",
       "  'dist_hls_gen_status': PosixPath('dist_hls/33MXS/OPERA_L3_DIST-ALERT-HLS_T33MXS_20250101T090401Z_20250103T040215Z_S2A_30_v1/OPERA_L3_DIST-ALERT-HLS_T33MXS_20250101T090401Z_20250103T040215Z_S2A_30_v1_GEN-DIST-STATUS.tif')}]"
      ]
     },
     "execution_count": 15,
     "metadata": {},
     "output_type": "execute_result"
    }
   ],
   "source": [
    "tif_data = [{'mgrs_tile_id': m_id,\n",
    "             'dist_s1_gen_status': dist_s1_prod_path,\n",
    "             'dist_hls_veg_status': dist_veg_hls_prod_path,\n",
    "             'dist_hls_gen_status': dist_gen_hls_prod_path}\n",
    "             for (m_id, (dist_s1_prod_path, dist_gen_hls_prod_path, dist_veg_hls_prod_path)) in path_dict_organized.items()]\n",
    "tif_data[:3]\n",
    "            "
   ]
  },
  {
   "cell_type": "code",
   "execution_count": 22,
   "id": "11be3280-5c8c-41ad-b667-9f45d143f081",
   "metadata": {},
   "outputs": [],
   "source": [
    "import shutil\n",
    "\n",
    "shareable_data = Path('validation_viz_data')\n",
    "shareable_data.mkdir(exist_ok=True, parents=True)"
   ]
  },
  {
   "cell_type": "code",
   "execution_count": 23,
   "id": "f919eec1-07ed-46ee-b7e0-d196f6edbcf4",
   "metadata": {},
   "outputs": [
    {
     "data": {
      "text/html": [
       "<div>\n",
       "<style scoped>\n",
       "    .dataframe tbody tr th:only-of-type {\n",
       "        vertical-align: middle;\n",
       "    }\n",
       "\n",
       "    .dataframe tbody tr th {\n",
       "        vertical-align: top;\n",
       "    }\n",
       "\n",
       "    .dataframe thead th {\n",
       "        text-align: right;\n",
       "    }\n",
       "</style>\n",
       "<table border=\"1\" class=\"dataframe\">\n",
       "  <thead>\n",
       "    <tr style=\"text-align: right;\">\n",
       "      <th></th>\n",
       "      <th>ID</th>\n",
       "      <th>Block</th>\n",
       "      <th>subID</th>\n",
       "      <th>blockStratum</th>\n",
       "      <th>substratum</th>\n",
       "      <th>zone</th>\n",
       "      <th>x</th>\n",
       "      <th>y</th>\n",
       "      <th>centx</th>\n",
       "      <th>centy</th>\n",
       "      <th>long</th>\n",
       "      <th>lat</th>\n",
       "      <th>MGRS</th>\n",
       "    </tr>\n",
       "  </thead>\n",
       "  <tbody>\n",
       "    <tr>\n",
       "      <th>0</th>\n",
       "      <td>30961_1</td>\n",
       "      <td>30961</td>\n",
       "      <td>1</td>\n",
       "      <td>treelossTF</td>\n",
       "      <td>3</td>\n",
       "      <td>33</td>\n",
       "      <td>372932.570128</td>\n",
       "      <td>545394.967628</td>\n",
       "      <td>372945</td>\n",
       "      <td>545385</td>\n",
       "      <td>13.854048</td>\n",
       "      <td>4.933158</td>\n",
       "      <td>33NUF</td>\n",
       "    </tr>\n",
       "    <tr>\n",
       "      <th>1</th>\n",
       "      <td>30961_2</td>\n",
       "      <td>30961</td>\n",
       "      <td>2</td>\n",
       "      <td>treelossTF</td>\n",
       "      <td>2</td>\n",
       "      <td>33</td>\n",
       "      <td>372728.616472</td>\n",
       "      <td>542585.990364</td>\n",
       "      <td>372735</td>\n",
       "      <td>542595</td>\n",
       "      <td>13.852197</td>\n",
       "      <td>4.907920</td>\n",
       "      <td>33NUF</td>\n",
       "    </tr>\n",
       "    <tr>\n",
       "      <th>2</th>\n",
       "      <td>30961_3</td>\n",
       "      <td>30961</td>\n",
       "      <td>3</td>\n",
       "      <td>treelossTF</td>\n",
       "      <td>1</td>\n",
       "      <td>33</td>\n",
       "      <td>373846.916077</td>\n",
       "      <td>547093.248106</td>\n",
       "      <td>373845</td>\n",
       "      <td>547095</td>\n",
       "      <td>13.862138</td>\n",
       "      <td>4.948639</td>\n",
       "      <td>33NUF</td>\n",
       "    </tr>\n",
       "    <tr>\n",
       "      <th>3</th>\n",
       "      <td>30961_4</td>\n",
       "      <td>30961</td>\n",
       "      <td>4</td>\n",
       "      <td>treelossTF</td>\n",
       "      <td>4</td>\n",
       "      <td>33</td>\n",
       "      <td>371390.914129</td>\n",
       "      <td>546069.082218</td>\n",
       "      <td>371385</td>\n",
       "      <td>546075</td>\n",
       "      <td>13.839969</td>\n",
       "      <td>4.939375</td>\n",
       "      <td>33NUF</td>\n",
       "    </tr>\n",
       "    <tr>\n",
       "      <th>4</th>\n",
       "      <td>30961_5</td>\n",
       "      <td>30961</td>\n",
       "      <td>5</td>\n",
       "      <td>treelossTF</td>\n",
       "      <td>3</td>\n",
       "      <td>33</td>\n",
       "      <td>374504.487544</td>\n",
       "      <td>546457.554880</td>\n",
       "      <td>374505</td>\n",
       "      <td>546465</td>\n",
       "      <td>13.868099</td>\n",
       "      <td>4.942951</td>\n",
       "      <td>33NUF</td>\n",
       "    </tr>\n",
       "  </tbody>\n",
       "</table>\n",
       "</div>"
      ],
      "text/plain": [
       "        ID  Block  subID blockStratum  substratum  zone              x  \\\n",
       "0  30961_1  30961      1   treelossTF           3    33  372932.570128   \n",
       "1  30961_2  30961      2   treelossTF           2    33  372728.616472   \n",
       "2  30961_3  30961      3   treelossTF           1    33  373846.916077   \n",
       "3  30961_4  30961      4   treelossTF           4    33  371390.914129   \n",
       "4  30961_5  30961      5   treelossTF           3    33  374504.487544   \n",
       "\n",
       "               y   centx   centy       long       lat   MGRS  \n",
       "0  545394.967628  372945  545385  13.854048  4.933158  33NUF  \n",
       "1  542585.990364  372735  542595  13.852197  4.907920  33NUF  \n",
       "2  547093.248106  373845  547095  13.862138  4.948639  33NUF  \n",
       "3  546069.082218  371385  546075  13.839969  4.939375  33NUF  \n",
       "4  546457.554880  374505  546465  13.868099  4.942951  33NUF  "
      ]
     },
     "execution_count": 23,
     "metadata": {},
     "output_type": "execute_result"
    }
   ],
   "source": [
    "df_val = pd.read_csv('../tables/reference_data/selectedpointsLL.csv')\n",
    "df_val.head()"
   ]
  },
  {
   "cell_type": "code",
   "execution_count": 24,
   "id": "be0d4ade-d562-40ea-b046-3c496a2252da",
   "metadata": {},
   "outputs": [
    {
     "data": {
      "text/plain": [
       "1125880"
      ]
     },
     "execution_count": 24,
     "metadata": {},
     "output_type": "execute_result"
    }
   ],
   "source": [
    "block = df_val[df_val.MGRS == '53LKC'].Block.tolist()[0]\n",
    "block"
   ]
  },
  {
   "cell_type": "code",
   "execution_count": 25,
   "id": "d85d4716-0afa-4b6f-b63e-89dc3a835c16",
   "metadata": {},
   "outputs": [],
   "source": [
    "for data in tif_data:\n",
    "    mgrs_tile_id = data['mgrs_tile_id']\n",
    "    mgrs_ind = (df_val.MGRS == mgrs_tile_id)\n",
    "    block_id = df_val[mgrs_ind].Block.tolist()[0]\n",
    "    block_stratum = df_val[mgrs_ind].blockStratum.tolist()[0]\n",
    "\n",
    "    out_dir = shareable_data / f'{block_stratum}__{block_id}__{mgrs_tile_id}'\n",
    "    out_dir.mkdir(exist_ok=True, parents=True)\n",
    "    \n",
    "    src_dist_s1 = data['dist_s1_gen_status']\n",
    "    shutil.copy(str(src_dist_s1), str(out_dir / src_dist_s1.name))\n",
    "\n",
    "    src_dist_hls_gen = data['dist_hls_gen_status']\n",
    "    shutil.copy(src_dist_hls_gen, out_dir / src_dist_hls_gen.name)\n",
    "\n",
    "    src_dist_hls_veg = data['dist_hls_veg_status']\n",
    "    shutil.copy(src_dist_hls_veg, out_dir / src_dist_hls_veg.name)"
   ]
  }
 ],
 "metadata": {
  "kernelspec": {
   "display_name": "dist-s1-val",
   "language": "python",
   "name": "dist-s1-val"
  },
  "language_info": {
   "codemirror_mode": {
    "name": "ipython",
    "version": 3
   },
   "file_extension": ".py",
   "mimetype": "text/x-python",
   "name": "python",
   "nbconvert_exporter": "python",
   "pygments_lexer": "ipython3",
   "version": "3.13.7"
  }
 },
 "nbformat": 4,
 "nbformat_minor": 5
}
