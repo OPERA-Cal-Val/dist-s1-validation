{
 "cells": [
  {
   "cell_type": "code",
   "execution_count": 48,
   "id": "f225a638-4ec1-4328-b717-19e6cb8f6b23",
   "metadata": {},
   "outputs": [],
   "source": [
    "from pathlib import Path\n",
    "import pandas as pd"
   ]
  },
  {
   "cell_type": "code",
   "execution_count": 49,
   "id": "fc9dcd7e-193b-4304-947e-786e0a971742",
   "metadata": {},
   "outputs": [
    {
     "data": {
      "text/plain": [
       "[PosixPath('dist_hls/10TDT'),\n",
       " PosixPath('dist_hls/11TLH'),\n",
       " PosixPath('dist_hls/12STA')]"
      ]
     },
     "execution_count": 49,
     "metadata": {},
     "output_type": "execute_result"
    }
   ],
   "source": [
    "mgrs_tile_dirs = sorted(list(Path('dist_hls').glob('*/')))\n",
    "mgrs_tile_dirs[:3]"
   ]
  },
  {
   "cell_type": "code",
   "execution_count": 50,
   "id": "79c0a704-0786-400d-ae2f-2261c8fdf237",
   "metadata": {},
   "outputs": [
    {
     "data": {
      "text/plain": [
       "['10TDT', '11TLH', '12STA']"
      ]
     },
     "execution_count": 50,
     "metadata": {},
     "output_type": "execute_result"
    }
   ],
   "source": [
    "hls_mgrs_tile_ids = [d.name for d in dist_type_dirs]\n",
    "hls_mgrs_tile_ids[:3]"
   ]
  },
  {
   "cell_type": "markdown",
   "id": "30243c93-f54c-4262-afc9-ff9237dfa561",
   "metadata": {},
   "source": [
    "# DIST_HLS"
   ]
  },
  {
   "cell_type": "code",
   "execution_count": 51,
   "id": "516422eb-3e0f-40cf-8064-ef282131032c",
   "metadata": {},
   "outputs": [
    {
     "data": {
      "text/plain": [
       "[PosixPath('dist_hls/10TDT/OPERA_L3_DIST-ALERT-HLS_T10TDT_20250101T190811Z_20250103T014021Z_S2A_30_v1'),\n",
       " PosixPath('dist_hls/11TLH/OPERA_L3_DIST-ALERT-HLS_T11TLH_20241231T184709Z_20250102T075958Z_S2B_30_v1'),\n",
       " PosixPath('dist_hls/12STA/OPERA_L3_DIST-ALERT-HLS_T12STA_20250101T181649Z_20250103T015018Z_S2B_30_v1')]"
      ]
     },
     "execution_count": 51,
     "metadata": {},
     "output_type": "execute_result"
    }
   ],
   "source": [
    "dist_hls_product_dirs = [list(d.glob('*/'))[0] for d in mgrs_tile_dirs]\n",
    "dist_hls_product_dirs[:3]"
   ]
  },
  {
   "cell_type": "code",
   "execution_count": 29,
   "id": "53537722-7efe-44ca-b05c-16be8593d7d9",
   "metadata": {},
   "outputs": [
    {
     "data": {
      "text/plain": [
       "True"
      ]
     },
     "execution_count": 29,
     "metadata": {},
     "output_type": "execute_result"
    }
   ],
   "source": [
    "dist_hls_gen_status_paths = [p / f'{p.name}_GEN-DIST-STATUS.tif' for p in dist_hls_product_dirs]\n",
    "dist_hls_gen_status_paths[0].exists()"
   ]
  },
  {
   "cell_type": "code",
   "execution_count": 30,
   "id": "454d8397-9e02-4c23-8254-d67caf18ee00",
   "metadata": {},
   "outputs": [
    {
     "data": {
      "text/plain": [
       "True"
      ]
     },
     "execution_count": 30,
     "metadata": {},
     "output_type": "execute_result"
    }
   ],
   "source": [
    "dist_hls_veg_status_paths = [p / f'{p.name}_VEG-DIST-STATUS.tif' for p in dist_hls_product_dirs]\n",
    "dist_hls_veg_status_paths[0].exists()"
   ]
  },
  {
   "cell_type": "markdown",
   "id": "2afed2da-679f-458c-8703-6af224752cf3",
   "metadata": {},
   "source": [
    "# DIST_S1\n"
   ]
  },
  {
   "cell_type": "code",
   "execution_count": 31,
   "id": "99e1edcd-7f22-498f-8e2b-b2851bd851cf",
   "metadata": {},
   "outputs": [
    {
     "data": {
      "text/plain": [
       "[PosixPath('confirmed_products/52VCH/OPERA_L3_DIST-ALERT-S1_T52VCH_20241222T092103Z_20250930T231343Z_S1_30_v0.1'),\n",
       " PosixPath('confirmed_products/53KKU/OPERA_L3_DIST-ALERT-S1_T53KKU_20241228T204226Z_20251001T013405Z_S1_30_v0.1'),\n",
       " PosixPath('confirmed_products/53KQV/OPERA_L3_DIST-ALERT-S1_T53KQV_20241230T202542Z_20250930T235030Z_S1_30_v0.1'),\n",
       " PosixPath('confirmed_products/53LKC/OPERA_L3_DIST-ALERT-S1_T53LKC_20241228T204129Z_20251001T003554Z_S1_30_v0.1'),\n",
       " PosixPath('confirmed_products/54HXH/OPERA_L3_DIST-ALERT-S1_T54HXH_20241229T194853Z_20251001T015140Z_S1_30_v0.1'),\n",
       " PosixPath('confirmed_products/60HTF/OPERA_L3_DIST-ALERT-S1_T60HTF_20241229T070835Z_20251001T045217Z_S1_30_v0.1')]"
      ]
     },
     "execution_count": 31,
     "metadata": {},
     "output_type": "execute_result"
    }
   ],
   "source": [
    "dist_s1_mgrs_dirs = sorted(list(Path('confirmed_products').glob('*/')))\n",
    "dist_s1_product_dirs = [sorted(list(d.glob('*/')))[-1] for d in dist_s1_mgrs_dirs]\n",
    "dist_s1_product_dirs"
   ]
  },
  {
   "cell_type": "code",
   "execution_count": 32,
   "id": "ce555ad1-d3d3-449b-8d03-26807d66a802",
   "metadata": {},
   "outputs": [
    {
     "data": {
      "text/plain": [
       "True"
      ]
     },
     "execution_count": 32,
     "metadata": {},
     "output_type": "execute_result"
    }
   ],
   "source": [
    "dist_s1_gen_status_paths = [p / f'{p.name}_GEN-DIST-STATUS.tif' for p in dist_s1_product_dirs]\n",
    "dist_s1_gen_status_paths[0].exists()"
   ]
  },
  {
   "cell_type": "markdown",
   "id": "9acfc93b-0709-4211-9e15-75de08863999",
   "metadata": {},
   "source": [
    "# Organizing"
   ]
  },
  {
   "cell_type": "code",
   "execution_count": 33,
   "id": "243f1ba7-f56c-48b8-9dda-b72942fc24cb",
   "metadata": {},
   "outputs": [
    {
     "data": {
      "text/plain": [
       "['52VCH', '53KKU', '53KQV', '53LKC', '54HXH', '60HTF']"
      ]
     },
     "execution_count": 33,
     "metadata": {},
     "output_type": "execute_result"
    }
   ],
   "source": [
    "[d.name for d in dist_s1_mgrs_dirs]"
   ]
  },
  {
   "cell_type": "code",
   "execution_count": 34,
   "id": "4613fed7-ad03-4e80-b1e1-c9cb23853cc1",
   "metadata": {},
   "outputs": [
    {
     "data": {
      "text/plain": [
       "['53LKC', '53KQV', '60HTF', '53KKU', '54HXH']"
      ]
     },
     "execution_count": 34,
     "metadata": {},
     "output_type": "execute_result"
    }
   ],
   "source": [
    "all_mgrs_tile_ids = list(set([d.name for d in dist_s1_mgrs_dirs]) & set(hls_mgrs_tile_ids))\n",
    "all_mgrs_tile_ids"
   ]
  },
  {
   "cell_type": "code",
   "execution_count": 39,
   "id": "fa34ebf7-90b4-4aca-bb1a-0f5bc9aac861",
   "metadata": {},
   "outputs": [],
   "source": [
    "path_dict_organized = {}\n",
    "for m_id in all_mgrs_tile_ids:\n",
    "    path_dict_organized[m_id]= ([p for p in dist_s1_gen_status_paths if p.name.split('_')[3][1:] == m_id][0],\n",
    "            [p for p in dist_hls_gen_status_paths if p.name.split('_')[3][1:] == m_id][0],\n",
    "            [p for p in dist_hls_veg_status_paths if p.name.split('_')[3][1:] == m_id][0]\n",
    "           )"
   ]
  },
  {
   "cell_type": "code",
   "execution_count": 42,
   "id": "a2b723da-d811-4962-a5d5-dbc86175abe8",
   "metadata": {},
   "outputs": [
    {
     "data": {
      "text/plain": [
       "dict_keys(['53LKC', '53KQV', '60HTF', '53KKU', '54HXH'])"
      ]
     },
     "execution_count": 42,
     "metadata": {},
     "output_type": "execute_result"
    }
   ],
   "source": [
    "path_dict_organized.keys()"
   ]
  },
  {
   "cell_type": "code",
   "execution_count": 43,
   "id": "7974ae10-5f04-4841-b1e6-b2f7236dd7ab",
   "metadata": {},
   "outputs": [
    {
     "data": {
      "text/plain": [
       "[{'mgrs_tile_id': '53LKC',\n",
       "  'dist_s1_gen_status': PosixPath('confirmed_products/53LKC/OPERA_L3_DIST-ALERT-S1_T53LKC_20241228T204129Z_20251001T003554Z_S1_30_v0.1/OPERA_L3_DIST-ALERT-S1_T53LKC_20241228T204129Z_20251001T003554Z_S1_30_v0.1_GEN-DIST-STATUS.tif'),\n",
       "  'dist_hls_veg_status': PosixPath('dist_hls/53LKC/OPERA_L3_DIST-ALERT-HLS_T53LKC_20241231T012721Z_20250102T105343Z_S2A_30_v1/OPERA_L3_DIST-ALERT-HLS_T53LKC_20241231T012721Z_20250102T105343Z_S2A_30_v1_VEG-DIST-STATUS.tif'),\n",
       "  'dist_hls_gen_status': PosixPath('dist_hls/53LKC/OPERA_L3_DIST-ALERT-HLS_T53LKC_20241231T012721Z_20250102T105343Z_S2A_30_v1/OPERA_L3_DIST-ALERT-HLS_T53LKC_20241231T012721Z_20250102T105343Z_S2A_30_v1_GEN-DIST-STATUS.tif')},\n",
       " {'mgrs_tile_id': '53KQV',\n",
       "  'dist_s1_gen_status': PosixPath('confirmed_products/53KQV/OPERA_L3_DIST-ALERT-S1_T53KQV_20241230T202542Z_20250930T235030Z_S1_30_v0.1/OPERA_L3_DIST-ALERT-S1_T53KQV_20241230T202542Z_20250930T235030Z_S1_30_v0.1_GEN-DIST-STATUS.tif'),\n",
       "  'dist_hls_veg_status': PosixPath('dist_hls/53KQV/OPERA_L3_DIST-ALERT-HLS_T53KQV_20250101T005711Z_20250103T023640Z_S2A_30_v1/OPERA_L3_DIST-ALERT-HLS_T53KQV_20250101T005711Z_20250103T023640Z_S2A_30_v1_VEG-DIST-STATUS.tif'),\n",
       "  'dist_hls_gen_status': PosixPath('dist_hls/53KQV/OPERA_L3_DIST-ALERT-HLS_T53KQV_20250101T005711Z_20250103T023640Z_S2A_30_v1/OPERA_L3_DIST-ALERT-HLS_T53KQV_20250101T005711Z_20250103T023640Z_S2A_30_v1_GEN-DIST-STATUS.tif')},\n",
       " {'mgrs_tile_id': '60HTF',\n",
       "  'dist_s1_gen_status': PosixPath('confirmed_products/60HTF/OPERA_L3_DIST-ALERT-S1_T60HTF_20241229T070835Z_20251001T045217Z_S1_30_v0.1/OPERA_L3_DIST-ALERT-S1_T60HTF_20241229T070835Z_20251001T045217Z_S1_30_v0.1_GEN-DIST-STATUS.tif'),\n",
       "  'dist_hls_veg_status': PosixPath('dist_hls/60HTF/OPERA_L3_DIST-ALERT-HLS_T60HTF_20241231T223539Z_20250102T183450Z_S2B_30_v1/OPERA_L3_DIST-ALERT-HLS_T60HTF_20241231T223539Z_20250102T183450Z_S2B_30_v1_VEG-DIST-STATUS.tif'),\n",
       "  'dist_hls_gen_status': PosixPath('dist_hls/60HTF/OPERA_L3_DIST-ALERT-HLS_T60HTF_20241231T223539Z_20250102T183450Z_S2B_30_v1/OPERA_L3_DIST-ALERT-HLS_T60HTF_20241231T223539Z_20250102T183450Z_S2B_30_v1_GEN-DIST-STATUS.tif')}]"
      ]
     },
     "execution_count": 43,
     "metadata": {},
     "output_type": "execute_result"
    }
   ],
   "source": [
    "tif_data = [{'mgrs_tile_id': m_id,\n",
    "             'dist_s1_gen_status': dist_s1_prod_path,\n",
    "             'dist_hls_veg_status': dist_veg_hls_prod_path,\n",
    "             'dist_hls_gen_status': dist_gen_hls_prod_path}\n",
    "             for (m_id, (dist_s1_prod_path, dist_gen_hls_prod_path, dist_veg_hls_prod_path)) in path_dict_organized.items()]\n",
    "tif_data[:3]\n",
    "            "
   ]
  },
  {
   "cell_type": "code",
   "execution_count": 44,
   "id": "11be3280-5c8c-41ad-b667-9f45d143f081",
   "metadata": {},
   "outputs": [],
   "source": [
    "import shutil\n",
    "\n",
    "shareable_data = Path('validation_viz_data')\n",
    "shareable_data.mkdir(exist_ok=True, parents=True)"
   ]
  },
  {
   "cell_type": "code",
   "execution_count": 53,
   "id": "f919eec1-07ed-46ee-b7e0-d196f6edbcf4",
   "metadata": {},
   "outputs": [
    {
     "data": {
      "text/html": [
       "<div>\n",
       "<style scoped>\n",
       "    .dataframe tbody tr th:only-of-type {\n",
       "        vertical-align: middle;\n",
       "    }\n",
       "\n",
       "    .dataframe tbody tr th {\n",
       "        vertical-align: top;\n",
       "    }\n",
       "\n",
       "    .dataframe thead th {\n",
       "        text-align: right;\n",
       "    }\n",
       "</style>\n",
       "<table border=\"1\" class=\"dataframe\">\n",
       "  <thead>\n",
       "    <tr style=\"text-align: right;\">\n",
       "      <th></th>\n",
       "      <th>ID</th>\n",
       "      <th>Block</th>\n",
       "      <th>subID</th>\n",
       "      <th>blockStratum</th>\n",
       "      <th>substratum</th>\n",
       "      <th>zone</th>\n",
       "      <th>x</th>\n",
       "      <th>y</th>\n",
       "      <th>centx</th>\n",
       "      <th>centy</th>\n",
       "      <th>long</th>\n",
       "      <th>lat</th>\n",
       "      <th>MGRS</th>\n",
       "    </tr>\n",
       "  </thead>\n",
       "  <tbody>\n",
       "    <tr>\n",
       "      <th>0</th>\n",
       "      <td>30961_1</td>\n",
       "      <td>30961</td>\n",
       "      <td>1</td>\n",
       "      <td>treelossTF</td>\n",
       "      <td>3</td>\n",
       "      <td>33</td>\n",
       "      <td>372932.570128</td>\n",
       "      <td>545394.967628</td>\n",
       "      <td>372945</td>\n",
       "      <td>545385</td>\n",
       "      <td>13.854048</td>\n",
       "      <td>4.933158</td>\n",
       "      <td>33NUF</td>\n",
       "    </tr>\n",
       "    <tr>\n",
       "      <th>1</th>\n",
       "      <td>30961_2</td>\n",
       "      <td>30961</td>\n",
       "      <td>2</td>\n",
       "      <td>treelossTF</td>\n",
       "      <td>2</td>\n",
       "      <td>33</td>\n",
       "      <td>372728.616472</td>\n",
       "      <td>542585.990364</td>\n",
       "      <td>372735</td>\n",
       "      <td>542595</td>\n",
       "      <td>13.852197</td>\n",
       "      <td>4.907920</td>\n",
       "      <td>33NUF</td>\n",
       "    </tr>\n",
       "    <tr>\n",
       "      <th>2</th>\n",
       "      <td>30961_3</td>\n",
       "      <td>30961</td>\n",
       "      <td>3</td>\n",
       "      <td>treelossTF</td>\n",
       "      <td>1</td>\n",
       "      <td>33</td>\n",
       "      <td>373846.916077</td>\n",
       "      <td>547093.248106</td>\n",
       "      <td>373845</td>\n",
       "      <td>547095</td>\n",
       "      <td>13.862138</td>\n",
       "      <td>4.948639</td>\n",
       "      <td>33NUF</td>\n",
       "    </tr>\n",
       "    <tr>\n",
       "      <th>3</th>\n",
       "      <td>30961_4</td>\n",
       "      <td>30961</td>\n",
       "      <td>4</td>\n",
       "      <td>treelossTF</td>\n",
       "      <td>4</td>\n",
       "      <td>33</td>\n",
       "      <td>371390.914129</td>\n",
       "      <td>546069.082218</td>\n",
       "      <td>371385</td>\n",
       "      <td>546075</td>\n",
       "      <td>13.839969</td>\n",
       "      <td>4.939375</td>\n",
       "      <td>33NUF</td>\n",
       "    </tr>\n",
       "    <tr>\n",
       "      <th>4</th>\n",
       "      <td>30961_5</td>\n",
       "      <td>30961</td>\n",
       "      <td>5</td>\n",
       "      <td>treelossTF</td>\n",
       "      <td>3</td>\n",
       "      <td>33</td>\n",
       "      <td>374504.487544</td>\n",
       "      <td>546457.554880</td>\n",
       "      <td>374505</td>\n",
       "      <td>546465</td>\n",
       "      <td>13.868099</td>\n",
       "      <td>4.942951</td>\n",
       "      <td>33NUF</td>\n",
       "    </tr>\n",
       "  </tbody>\n",
       "</table>\n",
       "</div>"
      ],
      "text/plain": [
       "        ID  Block  subID blockStratum  substratum  zone              x  \\\n",
       "0  30961_1  30961      1   treelossTF           3    33  372932.570128   \n",
       "1  30961_2  30961      2   treelossTF           2    33  372728.616472   \n",
       "2  30961_3  30961      3   treelossTF           1    33  373846.916077   \n",
       "3  30961_4  30961      4   treelossTF           4    33  371390.914129   \n",
       "4  30961_5  30961      5   treelossTF           3    33  374504.487544   \n",
       "\n",
       "               y   centx   centy       long       lat   MGRS  \n",
       "0  545394.967628  372945  545385  13.854048  4.933158  33NUF  \n",
       "1  542585.990364  372735  542595  13.852197  4.907920  33NUF  \n",
       "2  547093.248106  373845  547095  13.862138  4.948639  33NUF  \n",
       "3  546069.082218  371385  546075  13.839969  4.939375  33NUF  \n",
       "4  546457.554880  374505  546465  13.868099  4.942951  33NUF  "
      ]
     },
     "execution_count": 53,
     "metadata": {},
     "output_type": "execute_result"
    }
   ],
   "source": [
    "df_val = pd.read_csv('../tables/reference_data/selectedpointsLL.csv')\n",
    "df_val.head()"
   ]
  },
  {
   "cell_type": "code",
   "execution_count": 56,
   "id": "be0d4ade-d562-40ea-b046-3c496a2252da",
   "metadata": {},
   "outputs": [
    {
     "data": {
      "text/plain": [
       "1125880"
      ]
     },
     "execution_count": 56,
     "metadata": {},
     "output_type": "execute_result"
    }
   ],
   "source": [
    "block = df_val[df_val.MGRS == '53LKC'].Block.tolist()[0]\n",
    "block"
   ]
  },
  {
   "cell_type": "code",
   "execution_count": 58,
   "id": "d85d4716-0afa-4b6f-b63e-89dc3a835c16",
   "metadata": {},
   "outputs": [],
   "source": [
    "for data in tif_data:\n",
    "    mgrs_tile_id = data['mgrs_tile_id']\n",
    "    block_id = df_val[df_val.MGRS == mgrs_tile_id].Block.tolist()[0]\n",
    "\n",
    "    out_dir = shareable_data / f'{block_id}__{mgrs_tile_id}'\n",
    "    out_dir.mkdir(exist_ok=True, parents=True)\n",
    "    \n",
    "    src_dist_s1 = data['dist_s1_gen_status']\n",
    "    shutil.copy(str(src_dist_s1), str(out_dir / src_dist_s1.name))\n",
    "\n",
    "    src_dist_hls_gen = data['dist_hls_gen_status']\n",
    "    shutil.copy(src_dist_hls_gen, out_dir / src_dist_hls_gen.name)\n",
    "\n",
    "    src_dist_hls_veg = data['dist_hls_veg_status']\n",
    "    shutil.copy(src_dist_hls_veg, out_dir / src_dist_hls_veg.name)"
   ]
  }
 ],
 "metadata": {
  "kernelspec": {
   "display_name": "dist-s1-env",
   "language": "python",
   "name": "dist-s1-env"
  },
  "language_info": {
   "codemirror_mode": {
    "name": "ipython",
    "version": 3
   },
   "file_extension": ".py",
   "mimetype": "text/x-python",
   "name": "python",
   "nbconvert_exporter": "python",
   "pygments_lexer": "ipython3",
   "version": "3.13.5"
  }
 },
 "nbformat": 4,
 "nbformat_minor": 5
}
